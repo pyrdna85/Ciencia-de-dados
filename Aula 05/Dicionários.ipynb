{
  "nbformat": 4,
  "nbformat_minor": 0,
  "metadata": {
    "colab": {
      "name": "Dicionários.pynb",
      "provenance": [],
      "collapsed_sections": []
    },
    "kernelspec": {
      "name": "python3",
      "display_name": "Python 3"
    },
    "language_info": {
      "name": "python"
    }
  },
  "cells": [
    {
      "cell_type": "code",
      "metadata": {
        "id": "zLYfVzxxt_Sn"
      },
      "source": [
        ""
      ],
      "execution_count": null,
      "outputs": []
    },
    {
      "cell_type": "markdown",
      "metadata": {
        "id": "tSLsosbuuD-r"
      },
      "source": [
        "# Dicionários (dict)\n",
        "\n",
        "São estruturas de dados similares a listas, mas não são ordenados.\n",
        "\n",
        "Sua estrutura é composta por `chave` : `valor` ou `key` : `value`\n",
        "\n",
        "Enquianto o delimitador das listas são os colchetes, dos dicionários são as chaves."
      ]
    },
    {
      "cell_type": "code",
      "metadata": {
        "colab": {
          "base_uri": "https://localhost:8080/"
        },
        "id": "q2wZ5PzuuYJB",
        "outputId": "505fa614-aafb-4ea8-9131-a54d0e4429e6"
      },
      "source": [
        "# relembrando as listas\n",
        "notas = [8.5, 7.2, 8.0, 9.5, 4.5, 5.5]\n",
        "notas"
      ],
      "execution_count": 1,
      "outputs": [
        {
          "output_type": "execute_result",
          "data": {
            "text/plain": [
              "[8.5, 7.2, 8.0, 9.5, 4.5, 5.5]"
            ]
          },
          "metadata": {},
          "execution_count": 1
        }
      ]
    },
    {
      "cell_type": "code",
      "metadata": {
        "colab": {
          "base_uri": "https://localhost:8080/"
        },
        "id": "YYfk41lwvP0g",
        "outputId": "ec75f48a-411b-4594-d7a0-69669626c92f"
      },
      "source": [
        "print('Média: ', sum(notas)/len(notas))"
      ],
      "execution_count": 2,
      "outputs": [
        {
          "output_type": "stream",
          "name": "stdout",
          "text": [
            "Média:  7.2\n"
          ]
        }
      ]
    },
    {
      "cell_type": "code",
      "metadata": {
        "colab": {
          "base_uri": "https://localhost:8080/"
        },
        "id": "pUWkOCaaveAS",
        "outputId": "77b3e238-93db-4354-d3d0-493aff79a252"
      },
      "source": [
        "print('Menor nota: ', min(notas))\n",
        "print('Maior nota: ', max(notas))"
      ],
      "execution_count": 3,
      "outputs": [
        {
          "output_type": "stream",
          "name": "stdout",
          "text": [
            "Menor nota:  4.5\n",
            "Maior nota:  9.5\n"
          ]
        }
      ]
    },
    {
      "cell_type": "code",
      "metadata": {
        "id": "SVRftNVjv2On"
      },
      "source": [
        "# Quais notas são \"cheias\"?\n",
        "notas = [8.5, 7.2, 8.0, 9.5, 4.5, 5.5, 10.0, 7.0, 6.9]\n",
        "for nota in notas:\n",
        "  if nota == int(nota):\n",
        "    print(nota)"
      ],
      "execution_count": null,
      "outputs": []
    },
    {
      "cell_type": "code",
      "metadata": {
        "colab": {
          "base_uri": "https://localhost:8080/"
        },
        "id": "Y9IXG6Z6xcYD",
        "outputId": "bc7443dc-ea7f-4a7b-8e9c-d2e8a7e4bd59"
      },
      "source": [
        "# Dicionários\n",
        "# Declaração\n",
        "\n",
        "aluno = {\n",
        "    'ra' : '123',\n",
        "    'nome': 'Edson Melo',\n",
        "    'formacao' : 'Ciências da Computação',\n",
        "    'idade': 50\n",
        "}\n",
        "print(aluno)"
      ],
      "execution_count": 11,
      "outputs": [
        {
          "output_type": "stream",
          "name": "stdout",
          "text": [
            "{'ra': '123', 'nome': 'Edson Melo', 'formacao': 'Ciências da Computação', 'idade': 50}\n"
          ]
        }
      ]
    },
    {
      "cell_type": "code",
      "metadata": {
        "colab": {
          "base_uri": "https://localhost:8080/"
        },
        "id": "YGLDa7qTyCyX",
        "outputId": "d3028260-85ee-4a9e-c7dc-1e0b15737909"
      },
      "source": [
        "# Acessando dados de um dicionário\n",
        "print('RA: ', aluno['ra'])\n",
        "print('Nome:', aluno['nome'])\n",
        "print('Idade:', aluno['idade'])"
      ],
      "execution_count": 12,
      "outputs": [
        {
          "output_type": "stream",
          "name": "stdout",
          "text": [
            "RA:  123\n",
            "Nome: Edson Melo\n",
            "Idade: 50\n"
          ]
        }
      ]
    },
    {
      "cell_type": "code",
      "metadata": {
        "colab": {
          "base_uri": "https://localhost:8080/"
        },
        "id": "KRYDEeD3yjGq",
        "outputId": "f7ea09be-a42b-4971-c159-5f2211db32d8"
      },
      "source": [
        "# Acessar via .get()\n",
        "print('RA: ', aluno.get('ra'))\n",
        "print('Nome: ', aluno.get('nome'))"
      ],
      "execution_count": 13,
      "outputs": [
        {
          "output_type": "stream",
          "name": "stdout",
          "text": [
            "RA:  123\n",
            "Nome:  Edson Melo\n"
          ]
        }
      ]
    },
    {
      "cell_type": "code",
      "metadata": {
        "colab": {
          "base_uri": "https://localhost:8080/"
        },
        "id": "rZmpOVbMzl6w",
        "outputId": "fabf2ab6-a591-40d2-c9b9-c88c93138549"
      },
      "source": [
        "# Percorrer um dicionário\n",
        "# É mais usual utilizar a expressão iterar em um dicionário/lista\n",
        "# Chamado de iterate\n",
        "# Vamos iterar com base nas chaves\n",
        "\n",
        "chaves = aluno.keys() # pega todas as chaves do dicionário\n",
        "print(chaves)\n",
        "\n",
        "for chave in chaves:\n",
        "  print(chave, aluno[chave])"
      ],
      "execution_count": 18,
      "outputs": [
        {
          "output_type": "stream",
          "name": "stdout",
          "text": [
            "dict_keys(['ra', 'nome', 'formacao', 'idade'])\n",
            "ra 123\n",
            "nome Edson Melo\n",
            "formacao Ciências da Computação\n",
            "idade 50\n"
          ]
        }
      ]
    },
    {
      "cell_type": "code",
      "metadata": {
        "colab": {
          "base_uri": "https://localhost:8080/"
        },
        "id": "rot-8g610MS_",
        "outputId": "863afc2f-89d8-4277-8997-f4b66dc77e9c"
      },
      "source": [
        "chaves = aluno.keys() # pega todas as chaves do dicionário\n",
        "for chave in chaves:\n",
        "  print(chave, aluno.get(chave))"
      ],
      "execution_count": 19,
      "outputs": [
        {
          "output_type": "stream",
          "name": "stdout",
          "text": [
            "ra 123\n",
            "nome Edson Melo\n",
            "formacao Ciências da Computação\n",
            "idade 50\n"
          ]
        }
      ]
    },
    {
      "cell_type": "code",
      "metadata": {
        "colab": {
          "base_uri": "https://localhost:8080/"
        },
        "id": "ALDFn0wv1G1Z",
        "outputId": "3b72cfaa-be52-45be-9050-297dc9e1b7a3"
      },
      "source": [
        "# Forma Pytônica\n",
        "# Iteração direta no dicionário\n",
        "for key, value in aluno.items():\n",
        "  print(key, value)\n"
      ],
      "execution_count": 20,
      "outputs": [
        {
          "output_type": "stream",
          "name": "stdout",
          "text": [
            "ra 123\n",
            "nome Edson Melo\n",
            "formacao Ciências da Computação\n",
            "idade 50\n"
          ]
        }
      ]
    },
    {
      "cell_type": "markdown",
      "metadata": {
        "id": "L2WOchuq2Dw9"
      },
      "source": [
        "# Operações com Dicionários\n",
        "\n",
        "* Inclusão\n",
        "* Remoção\n",
        "* Alteração"
      ]
    },
    {
      "cell_type": "code",
      "metadata": {
        "colab": {
          "base_uri": "https://localhost:8080/"
        },
        "id": "myC0BgDe1iwZ",
        "outputId": "58bfd39e-761c-4441-8042-a9afb6db1965"
      },
      "source": [
        "# Inclusão\n",
        "# Primeira forma\n",
        "aluno['AV1'] = 7.8\n",
        "print(aluno)"
      ],
      "execution_count": 21,
      "outputs": [
        {
          "output_type": "stream",
          "name": "stdout",
          "text": [
            "{'ra': '123', 'nome': 'Edson Melo', 'formacao': 'Ciências da Computação', 'idade': 50, 'AV1': 7.8}\n"
          ]
        }
      ]
    },
    {
      "cell_type": "code",
      "metadata": {
        "colab": {
          "base_uri": "https://localhost:8080/"
        },
        "id": "-0W8CV1s2gpO",
        "outputId": "5fcc3a58-f05f-4b9a-d087-cc0a5821cafb"
      },
      "source": [
        "# Segunda forma - método update()\n",
        "# Se um valor (key) exisitr, será atualizado, senão inserido\n",
        "aluno.update({'AV2' : 7.3})\n",
        "print(aluno)"
      ],
      "execution_count": 22,
      "outputs": [
        {
          "output_type": "stream",
          "name": "stdout",
          "text": [
            "{'ra': '123', 'nome': 'Edson Melo', 'formacao': 'Ciências da Computação', 'idade': 50, 'AV1': 7.8, 'AV2': 7.3}\n"
          ]
        }
      ]
    },
    {
      "cell_type": "code",
      "metadata": {
        "colab": {
          "base_uri": "https://localhost:8080/"
        },
        "id": "r5DONzQI3Eho",
        "outputId": "9397b22a-9e18-4d55-cb91-765aef2c1408"
      },
      "source": [
        "# Nesse caso já existe, então vai atualizar o valor da AV2\n",
        "aluno.update({'AV2' : 2.4})\n",
        "print(aluno)"
      ],
      "execution_count": 23,
      "outputs": [
        {
          "output_type": "stream",
          "name": "stdout",
          "text": [
            "{'ra': '123', 'nome': 'Edson Melo', 'formacao': 'Ciências da Computação', 'idade': 50, 'AV1': 7.8, 'AV2': 2.4}\n"
          ]
        }
      ]
    },
    {
      "cell_type": "code",
      "metadata": {
        "colab": {
          "base_uri": "https://localhost:8080/"
        },
        "id": "ia1e9bQI3OX6",
        "outputId": "913f5834-192c-4ee4-9168-a3fc9b924377"
      },
      "source": [
        "# Treinando 1\n",
        "# Atualizar as notas da AV1 para 6.6 e da AV2 para 3.1\n",
        "aluno.update({'AV1': 6.6, 'AV2': 3.1})\n",
        "print(aluno)"
      ],
      "execution_count": 24,
      "outputs": [
        {
          "output_type": "stream",
          "name": "stdout",
          "text": [
            "{'ra': '123', 'nome': 'Edson Melo', 'formacao': 'Ciências da Computação', 'idade': 50, 'AV1': 6.6, 'AV2': 3.1}\n"
          ]
        }
      ]
    },
    {
      "cell_type": "code",
      "metadata": {
        "colab": {
          "base_uri": "https://localhost:8080/"
        },
        "id": "mJ6_hypL4AyM",
        "outputId": "346d14b4-6ef0-447e-baec-d7f6b9a54721"
      },
      "source": [
        "# Outro exemplo\n",
        "carro = {}\n",
        "carro.update({'marca': 'GM', 'ano': 2021, 'cor': 'branca'})\n",
        "carro"
      ],
      "execution_count": 25,
      "outputs": [
        {
          "output_type": "execute_result",
          "data": {
            "text/plain": [
              "{'ano': 2021, 'cor': 'branca', 'marca': 'GM'}"
            ]
          },
          "metadata": {},
          "execution_count": 25
        }
      ]
    },
    {
      "cell_type": "code",
      "metadata": {
        "colab": {
          "base_uri": "https://localhost:8080/"
        },
        "id": "fMvrnUDE5TQo",
        "outputId": "219b1852-2f28-48c8-b22c-ca620c136edf"
      },
      "source": [
        "# Usando o input()\n",
        "filme = {}\n",
        "\n",
        "nome = input('Nome: ')\n",
        "ano = int(input('Ano: '))\n",
        "categoria = input('Categoria: ')\n",
        "\n",
        "filme.update(\n",
        "    {\n",
        "     'nome': nome, \n",
        "     'ano': ano, \n",
        "     'categoria': categoria\n",
        "     }\n",
        "    )"
      ],
      "execution_count": 26,
      "outputs": [
        {
          "name": "stdout",
          "output_type": "stream",
          "text": [
            "Nome: Titanic\n",
            "Ano: 2000\n",
            "Categoria: Romance\n"
          ]
        }
      ]
    },
    {
      "cell_type": "code",
      "metadata": {
        "colab": {
          "base_uri": "https://localhost:8080/"
        },
        "id": "DtU02xzJ6-KB",
        "outputId": "3d45b959-e647-4184-f46f-aab18b8baf4b"
      },
      "source": [
        "# Usando o input()\n",
        "filme = {}\n",
        "\n",
        "chave_titulo = input('Nome: ')\n",
        "titulo = input('Nome: ')\n",
        "\n",
        "filme.update( {f\"{chave_titulo}\": titulo} )\n",
        "filme"
      ],
      "execution_count": 31,
      "outputs": [
        {
          "name": "stdout",
          "output_type": "stream",
          "text": [
            "Nome: titulo\n",
            "Nome: Titanic\n"
          ]
        }
      ]
    },
    {
      "cell_type": "code",
      "metadata": {
        "colab": {
          "base_uri": "https://localhost:8080/"
        },
        "id": "EWVBjt2x7nQP",
        "outputId": "a46a156c-00b6-43ae-9049-aab4c8ef013b"
      },
      "source": [
        "# Treinando 2\n",
        "# Criar um dicionário com as seguintes entradas: id, nome, email\n",
        "# Mostrar na saída apenas o valor da chave \"id\"\n",
        "cliente = {}\n",
        "cliente.update({'id': 111, 'nome': 'Fábio', 'email': 'fabio@gmail.com'})\n",
        "\n",
        "print('ID: ', cliente['id'])\n",
        "print('ID: ', cliente.get('id'))"
      ],
      "execution_count": 35,
      "outputs": [
        {
          "output_type": "stream",
          "name": "stdout",
          "text": [
            "ID:  111\n",
            "ID:  111\n"
          ]
        }
      ]
    },
    {
      "cell_type": "code",
      "metadata": {
        "colab": {
          "base_uri": "https://localhost:8080/"
        },
        "id": "UFHwjwhA92at",
        "outputId": "35733c8b-6fb5-459d-d5c8-30c43e0632bc"
      },
      "source": [
        "cadastro = {'id' : '777', 'nome' : 'Saulo', 'email' : 'saulo@gmail.com'}\n",
        "print('ID: ', cadastro.get('id'))"
      ],
      "execution_count": 36,
      "outputs": [
        {
          "output_type": "stream",
          "name": "stdout",
          "text": [
            "ID:  777\n"
          ]
        }
      ]
    },
    {
      "cell_type": "code",
      "metadata": {
        "colab": {
          "base_uri": "https://localhost:8080/"
        },
        "id": "JxmYAzzb-T34",
        "outputId": "3af680b7-a1a0-4a96-be48-a6d03051e345"
      },
      "source": [
        "usuario = {}\n",
        "usuario.update({'id': '123',\n",
        "                'nome' : 'Allan',\n",
        "                'email':'allan@uni9.edu.com.br'})\n",
        "print('Id:', usuario.get('id'))"
      ],
      "execution_count": 48,
      "outputs": [
        {
          "output_type": "stream",
          "name": "stdout",
          "text": [
            "Id: 123\n"
          ]
        }
      ]
    },
    {
      "cell_type": "code",
      "metadata": {
        "id": "n88N-O2P-uoN"
      },
      "source": [
        "# Remoção de chaves e valores: del dict['key']\n",
        "del aluno['ra']"
      ],
      "execution_count": null,
      "outputs": []
    },
    {
      "cell_type": "code",
      "metadata": {
        "colab": {
          "base_uri": "https://localhost:8080/"
        },
        "id": "-Pgq77_7__Xb",
        "outputId": "248fdf7a-d80b-413f-dee8-24490de2900f"
      },
      "source": [
        "# Pertencimento: in ou not in\n",
        "'nome' in aluno"
      ],
      "execution_count": 51,
      "outputs": [
        {
          "output_type": "execute_result",
          "data": {
            "text/plain": [
              "True"
            ]
          },
          "metadata": {},
          "execution_count": 51
        }
      ]
    },
    {
      "cell_type": "markdown",
      "metadata": {
        "id": "UshGyT7MBaWR"
      },
      "source": [
        "# Integração de Dicionários com Listas"
      ]
    },
    {
      "cell_type": "code",
      "metadata": {
        "id": "rzZAWXwGA_Lz"
      },
      "source": [
        "dict_exemplo = {\n",
        "    'id': 1, \n",
        "    'nome': 'Edson Melo', \n",
        "    'notas': [ # criação de uma lista de dicionários \n",
        "              {'Disciplina': 'Ciência de Dados', 'AV1': 3.0, 'AV2': 5.5, 'AV3': 9.2},\n",
        "              {'Disciplina': 'Sistemas Operacionais','AV1': 4.0, 'AV2': 9.5, 'AV3': 6.0},\n",
        "              {'Disciplina': 'Redes de Computadores','AV1': 6.0, 'AV2': 2.5, 'AV3': 9.0}\n",
        "    ]\n",
        "}"
      ],
      "execution_count": 60,
      "outputs": []
    },
    {
      "cell_type": "code",
      "metadata": {
        "colab": {
          "base_uri": "https://localhost:8080/"
        },
        "id": "s9pB46a4DIz4",
        "outputId": "ce502092-4eaf-4d06-d576-6de2aef304b2"
      },
      "source": [
        "# Outro exemplo\n",
        "alunos = []\n",
        "alunos.append({'id': 1, 'nome': 'Edson Melo'})\n",
        "alunos.append({'id': 2, 'nome': 'Tania Maria'})\n",
        "print(alunos)"
      ],
      "execution_count": 66,
      "outputs": [
        {
          "output_type": "stream",
          "name": "stdout",
          "text": [
            "[{'id': 1, 'nome': 'Edson Melo'}, {'id': 2, 'nome': 'Tania Maria'}]\n"
          ]
        }
      ]
    },
    {
      "cell_type": "code",
      "metadata": {
        "colab": {
          "base_uri": "https://localhost:8080/"
        },
        "id": "cj1ubc_NDPOp",
        "outputId": "849cea5f-01d6-448b-d90f-f6d41618f7ba"
      },
      "source": [
        "# Como iterar nesse caso?\n",
        "for aluno in alunos:\n",
        "  for key, value in aluno.items():\n",
        "    print(key, '=>', value)\n",
        "  print()"
      ],
      "execution_count": 68,
      "outputs": [
        {
          "output_type": "stream",
          "name": "stdout",
          "text": [
            "id => 1\n",
            "nome => Edson Melo\n",
            "\n",
            "id => 2\n",
            "nome => Tania Maria\n",
            "\n"
          ]
        }
      ]
    },
    {
      "cell_type": "markdown",
      "metadata": {
        "id": "Omp8vujDFRPy"
      },
      "source": [
        "Utilizandos os conceitos vistos nesta aula e na aula anterior, crie um dicionário com 5 alunos que mostre:\n",
        "* Maior nota\n",
        "* Menor nota\n",
        "* Média dos alunos\n",
        "\n",
        "Notas: 8, 7, 6, 6, 6, 6\n",
        "\n"
      ]
    },
    {
      "cell_type": "code",
      "metadata": {
        "id": "Tu2bpOEFFQtz"
      },
      "source": [
        "alunos = []\n",
        "alunos.append({'nome': 'Aluno 01', 'curso': 'Ciências da Computação', 'AV1':8 })\n",
        "alunos.append({'nome': 'Aluno 02', 'curso': 'Sistemas de Informação', 'AV1':7 })\n",
        "alunos.append({'nome': 'Aluno 03', 'curso': 'Sistemas de Informação', 'AV1':6 })\n",
        "alunos.append({'nome': 'Aluno 04', 'curso': 'Sistemas de Informação', 'AV1':6 })\n",
        "alunos.append({'nome': 'Aluno 05', 'curso': 'Sistemas de Informação', 'AV1':6 })"
      ],
      "execution_count": 70,
      "outputs": []
    },
    {
      "cell_type": "code",
      "metadata": {
        "colab": {
          "base_uri": "https://localhost:8080/"
        },
        "id": "cfZJ0UL3FwiP",
        "outputId": "af7f5429-ff59-4611-8228-629c794b5c87"
      },
      "source": [
        "# resolução: 8, 6, 6.6\n",
        "media  = 0\n",
        "notas = []\n",
        "\n",
        "for aluno in alunos: # iteração sobre a lista\n",
        "  for dado in aluno.keys(): # iteração sobre o dicionário\n",
        "    if dado == 'AV1':\n",
        "      media += aluno[dado]\n",
        "      notas = notas + [ aluno[dado] ]\n",
        "\n",
        "print('Notas Gerais')\n",
        "print('Maior nota: ', max(notas))\n",
        "print('Menor nota: ', min(notas))\n",
        "print('Média.....: ', round((media/len(notas)),2))"
      ],
      "execution_count": 72,
      "outputs": [
        {
          "output_type": "stream",
          "name": "stdout",
          "text": [
            "Notas Gerais\n",
            "Maior nota:  8\n",
            "Menor nota:  6\n",
            "Média.....:  6.6\n"
          ]
        }
      ]
    },
    {
      "cell_type": "code",
      "metadata": {
        "colab": {
          "base_uri": "https://localhost:8080/"
        },
        "id": "II8gA9OaNkJ6",
        "outputId": "6f5e6b57-5c67-42cb-9740-7726d6720101"
      },
      "source": [
        "# Outra resolução (Diogo)\n",
        "notas = []\n",
        "for aluno in alunos:\n",
        "  notas.append(aluno['AV1'])\n",
        "\n",
        "print('Notas Gerais')\n",
        "print('Maior nota: ', max(notas))\n",
        "print('Menor nota: ', min(notas))\n",
        "print('Média.....: ', (sum(notas)/len(notas)))"
      ],
      "execution_count": 74,
      "outputs": [
        {
          "output_type": "stream",
          "name": "stdout",
          "text": [
            "Notas Gerais\n",
            "Maior nota:  8\n",
            "Menor nota:  6\n",
            "Média.....:  6.6\n"
          ]
        }
      ]
    },
    {
      "cell_type": "code",
      "metadata": {
        "colab": {
          "base_uri": "https://localhost:8080/"
        },
        "id": "fF5-5NPTNumM",
        "outputId": "fa71c9b6-5262-4e57-b9b6-223a7993af83"
      },
      "source": [
        "# Terceira forma: Pytônica (compressão de listas)\n",
        "notas = []\n",
        "\n",
        "[notas.append(aluno['AV1']) for aluno in alunos]\n",
        "\n",
        "print('Notas Gerais')\n",
        "print('Maior nota: ', max(notas))\n",
        "print('Menor nota: ', min(notas))\n",
        "print('Média.....: ', (sum(notas)/len(notas)))"
      ],
      "execution_count": 76,
      "outputs": [
        {
          "output_type": "stream",
          "name": "stdout",
          "text": [
            "Notas Gerais\n",
            "Maior nota:  8\n",
            "Menor nota:  6\n",
            "Média.....:  6.6\n"
          ]
        }
      ]
    },
    {
      "cell_type": "code",
      "metadata": {
        "id": "a_xvJrG_PXXU"
      },
      "source": [
        ""
      ],
      "execution_count": 76,
      "outputs": []
    }
  ]
}