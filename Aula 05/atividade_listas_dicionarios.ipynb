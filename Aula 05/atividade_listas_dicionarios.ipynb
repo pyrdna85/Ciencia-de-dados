{
  "nbformat": 4,
  "nbformat_minor": 0,
  "metadata": {
    "colab": {
      "name": "atividade_listas_dicionarios.ipynb",
      "provenance": [],
      "collapsed_sections": []
    },
    "kernelspec": {
      "name": "python3",
      "display_name": "Python 3"
    },
    "language_info": {
      "name": "python"
    }
  },
  "cells": [
    {
      "cell_type": "markdown",
      "metadata": {
        "id": "rLoDvObdGiPW"
      },
      "source": [
        "# Atividade\n",
        "### Entrega: 16/Set\n",
        "### Valor: 100 pontos\n",
        "\n",
        "### Utilizando os dados a seguir, mostre os resultados de **forma individual** para cada curso sendo:\n",
        "\n",
        "* Menor nota\n",
        "* Maior nota\n",
        "* Média das notas"
      ]
    },
    {
      "cell_type": "code",
      "metadata": {
        "id": "ER3woJq1Gxer"
      },
      "source": [
        "# Dados\n",
        "alunos = []\n",
        "alunos.append({'nome': 'Aluno 01', 'curso': 'Ciências da Computação', 'AV1':8 })\n",
        "alunos.append({'nome': 'Aluno 02', 'curso': 'Sistemas de Informação', 'AV1':7 })\n",
        "alunos.append({'nome': 'Aluno 03', 'curso': 'Sistemas de Informação', 'AV1':6 })\n",
        "alunos.append({'nome': 'Aluno 04', 'curso': 'Sistemas de Informação', 'AV1':6 })\n",
        "alunos.append({'nome': 'Aluno 05', 'curso': 'Sistemas de Informação', 'AV1':6 })\n",
        "alunos.append({'nome': 'Aluno 06', 'curso': 'Análise e Desenvolvimento de Sistemas', 'AV1':7 })\n",
        "alunos.append({'nome': 'Aluno 07', 'curso': 'Análise e Desenvolvimento de Sistemas', 'AV1':9 })\n",
        "alunos.append({'nome': 'Aluno 08', 'curso': 'Ciências da Computação', 'AV1':10 })\n",
        "alunos.append({'nome': 'Aluno 09', 'curso': 'Ciências da Computação', 'AV1':10 })\n",
        "alunos.append({'nome': 'Aluno 10', 'curso': 'Ciências da Computação', 'AV1':4 })\n",
        "alunos.append({'nome': 'Aluno 11', 'curso': 'Análise e Desenvolvimento de Sistemas', 'AV1':5 })\n",
        "alunos.append({'nome': 'Aluno 11', 'curso': 'Análise e Desenvolvimento de Sistemas', 'AV1':5 })\n",
        "alunos.append({'nome': 'Aluno 12', 'curso': 'Análise e Desenvolvimento de Sistemas', 'AV1':9 })\n",
        "alunos.append({'nome': 'Aluno 13', 'curso': 'Análise e Desenvolvimento de Sistemas', 'AV1':9 })\n",
        "alunos.append({'nome': 'Aluno 14', 'curso': 'Ciências da Computação', 'AV1': 7})\n",
        "alunos.append({'nome': 'Aluno 15', 'curso': 'Análise e Desenvolvimento de Sistemas', 'AV1':7})\n",
        "alunos.append({'nome': 'Aluno 16', 'curso': 'Ciências da Computação', 'AV1': 6})\n",
        "alunos.append({'nome': 'Aluno 17', 'curso': 'Análise e Desenvolvimento de Sistemas', 'AV1':8 })\n",
        "alunos.append({'nome': 'Aluno 18', 'curso': 'Ciências da Computação', 'AV1':4 })\n",
        "alunos.append({'nome': 'Aluno 19', 'curso': 'Sistemas de Informação', 'AV1':2 })\n",
        "alunos.append({'nome': 'Aluno 20', 'curso': 'Análise e Desenvolvimento de Sistemas', 'AV1':9 })"
      ],
      "execution_count": 1,
      "outputs": []
    },
    {
      "cell_type": "markdown",
      "metadata": {
        "id": "-mt9Dcg5IM3X"
      },
      "source": [
        "## Resolução"
      ]
    },
    {
      "cell_type": "code",
      "metadata": {
        "id": "9PPbVpL2G9nU"
      },
      "source": [
        "# Notas Gerais\n",
        "# desenvolver aqui o código\n",
        "\n",
        "\n",
        "\n",
        "# Saída\n",
        "# A MAIOR nota é.....: 10\n",
        "# A MENOR nota é.....: 2\n",
        "# A MÉDIA das notas é: 6.86"
      ],
      "execution_count": 4,
      "outputs": []
    },
    {
      "cell_type": "code",
      "metadata": {
        "id": "HODtGJzRIUor"
      },
      "source": [
        "# Ciências da Computação\n",
        "# desenvolver aqui o código\n",
        "\n",
        "# Saída\n",
        "# A MAIOR nota é.....: 10\n",
        "# A MENOR nota é.....: 4\n",
        "# A MÉDIA das notas é: 7.0"
      ],
      "execution_count": 4,
      "outputs": []
    },
    {
      "cell_type": "code",
      "metadata": {
        "id": "qm7o9uJLIV7V"
      },
      "source": [
        "# Análise e Desenvolvimento de Sistemas\n",
        "# desenvolver aqui o código\n",
        "\n",
        "\n",
        "# Saída\n",
        "# A MAIOR nota é.....: 9\n",
        "# A MENOR nota é.....: 5\n",
        "# A MÉDIA das notas é: 7.56"
      ],
      "execution_count": null,
      "outputs": []
    },
    {
      "cell_type": "code",
      "metadata": {
        "id": "1e3oVnYTIV-N"
      },
      "source": [
        "# Sistemas de Informação\n",
        "# desenvolver aqui o código\n",
        "\n",
        "# Saída\n",
        "# A MAIOR notas é....: 7\n",
        "# A MENOR nota é.....: 2\n",
        "# A MÉDIA das notas é: 5.4"
      ],
      "execution_count": null,
      "outputs": []
    },
    {
      "cell_type": "markdown",
      "metadata": {
        "id": "FIzo4z_dHl6l"
      },
      "source": [
        "### Desenvolva um algoritmo que permita mostrar **de uma só vez** os resultados do exercício anterior para cada curso."
      ]
    },
    {
      "cell_type": "code",
      "metadata": {
        "id": "eWT5OxUFJeX-"
      },
      "source": [
        "# Resolução\n",
        "# desenvolver aqui o código\n",
        "\n",
        "\n",
        "\n",
        "# Saída\n",
        "# Curso: Análise e Desenvolvimento de Sistemas [7, 9, 5, 5, 9, 9, 7, 8, 9]\n",
        "# A MAIOR nota é.....: 9\n",
        "# A MENOR nota é.....: 5\n",
        "# A MÉDIA das notas é: 7.56\n",
        "\n",
        "# Curso: Ciências da Computação [8, 10, 10, 4, 7, 6, 4]\n",
        "# A MAIOR nota é.....: 10\n",
        "# A MENOR nota é.....: 4\n",
        "# A MÉDIA das notas é: 7.0\n",
        "\n",
        "# Curso: Sistemas de Informação [7, 6, 6, 6, 2]\n",
        "# A MAIOR nota é.....: 7\n",
        "# A MENOR nota é.....: 2\n",
        "# A MÉDIA das notas é: 5.4"
      ],
      "execution_count": null,
      "outputs": []
    }
  ]
}