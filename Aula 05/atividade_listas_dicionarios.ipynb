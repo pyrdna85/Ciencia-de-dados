{
  "nbformat": 4,
  "nbformat_minor": 0,
  "metadata": {
    "colab": {
      "name": "atividade_listas_dicionarios.ipynb",
      "provenance": [],
      "collapsed_sections": []
    },
    "kernelspec": {
      "name": "python3",
      "display_name": "Python 3"
    },
    "language_info": {
      "name": "python"
    }
  },
  "cells": [
    {
      "cell_type": "markdown",
      "metadata": {
        "id": "rLoDvObdGiPW"
      },
      "source": [
        "# Atividade\n",
        "### Entrega: 16/Set\n",
        "### Valor: 100 pontos\n",
        "\n",
        "### Utilizando os dados a seguir, mostre os resultados de **forma individual** para cada curso sendo:\n",
        "\n",
        "* Menor nota\n",
        "* Maior nota\n",
        "* Média das notas"
      ]
    },
    {
      "cell_type": "code",
      "metadata": {
        "id": "ER3woJq1Gxer"
      },
      "source": [
        "# Dados\n",
        "alunos = []\n",
        "alunos.append({'nome': 'Aluno 01', 'curso': 'Ciências da Computação', 'AV1':8 })\n",
        "alunos.append({'nome': 'Aluno 02', 'curso': 'Sistemas de Informação', 'AV1':7 })\n",
        "alunos.append({'nome': 'Aluno 03', 'curso': 'Sistemas de Informação', 'AV1':6 })\n",
        "alunos.append({'nome': 'Aluno 04', 'curso': 'Sistemas de Informação', 'AV1':6 })\n",
        "alunos.append({'nome': 'Aluno 05', 'curso': 'Sistemas de Informação', 'AV1':6 })\n",
        "alunos.append({'nome': 'Aluno 06', 'curso': 'Análise e Desenvolvimento de Sistemas', 'AV1':7 })\n",
        "alunos.append({'nome': 'Aluno 07', 'curso': 'Análise e Desenvolvimento de Sistemas', 'AV1':9 })\n",
        "alunos.append({'nome': 'Aluno 08', 'curso': 'Ciências da Computação', 'AV1':10 })\n",
        "alunos.append({'nome': 'Aluno 09', 'curso': 'Ciências da Computação', 'AV1':10 })\n",
        "alunos.append({'nome': 'Aluno 10', 'curso': 'Ciências da Computação', 'AV1':4 })\n",
        "alunos.append({'nome': 'Aluno 11', 'curso': 'Análise e Desenvolvimento de Sistemas', 'AV1':5 })\n",
        "alunos.append({'nome': 'Aluno 11', 'curso': 'Análise e Desenvolvimento de Sistemas', 'AV1':5 })\n",
        "alunos.append({'nome': 'Aluno 12', 'curso': 'Análise e Desenvolvimento de Sistemas', 'AV1':9 })\n",
        "alunos.append({'nome': 'Aluno 13', 'curso': 'Análise e Desenvolvimento de Sistemas', 'AV1':9 })\n",
        "alunos.append({'nome': 'Aluno 14', 'curso': 'Ciências da Computação', 'AV1': 7})\n",
        "alunos.append({'nome': 'Aluno 15', 'curso': 'Análise e Desenvolvimento de Sistemas', 'AV1':7})\n",
        "alunos.append({'nome': 'Aluno 16', 'curso': 'Ciências da Computação', 'AV1': 6})\n",
        "alunos.append({'nome': 'Aluno 17', 'curso': 'Análise e Desenvolvimento de Sistemas', 'AV1':8 })\n",
        "alunos.append({'nome': 'Aluno 18', 'curso': 'Ciências da Computação', 'AV1':4 })\n",
        "alunos.append({'nome': 'Aluno 19', 'curso': 'Sistemas de Informação', 'AV1':2 })\n",
        "alunos.append({'nome': 'Aluno 20', 'curso': 'Análise e Desenvolvimento de Sistemas', 'AV1':9 })"
      ],
      "execution_count": null,
      "outputs": []
    },
    {
      "cell_type": "markdown",
      "metadata": {
        "id": "-mt9Dcg5IM3X"
      },
      "source": [
        "## Resolução"
      ]
    },
    {
      "cell_type": "code",
      "metadata": {
        "id": "9PPbVpL2G9nU",
        "colab": {
          "base_uri": "https://localhost:8080/"
        },
        "outputId": "f5f50d5c-9897-44e3-9150-f43799a42528"
      },
      "source": [
        "# Notas Gerais\n",
        "# desenvolver aqui o código\n",
        "\n",
        "media  = 0\n",
        "notas = []\n",
        "materia = []\n",
        "\n",
        "for aluno in alunos:\n",
        "  for key, value in aluno.items():      \n",
        "      materia.append(value)    \n",
        "  \n",
        "  while len(notas) < len(materia):\n",
        "    if key == 'AV1':\n",
        "      media += value\n",
        "      notas.append(value)\n",
        "\n",
        "      \n",
        "print('Notas Gerais')\n",
        "print('Maior nota: ', max(notas))\n",
        "print('Menor nota: ', min(notas))      \n",
        "print('Média.....: ', round((media/len(notas)),2))\n",
        "\n",
        "# Saída\n",
        "# A MAIOR nota é.....: 10\n",
        "# A MENOR nota é.....: 2\n",
        "# A MÉDIA das notas é: 6.86"
      ],
      "execution_count": 5,
      "outputs": [
        {
          "output_type": "stream",
          "name": "stdout",
          "text": [
            "Notas Gerais\n",
            "Maior nota:  10\n",
            "Menor nota:  2\n",
            "Média.....:  6.86\n"
          ]
        }
      ]
    },
    {
      "cell_type": "code",
      "metadata": {
        "id": "HODtGJzRIUor",
        "colab": {
          "base_uri": "https://localhost:8080/"
        },
        "outputId": "0b25d4a2-3c67-4302-ef1f-c4c337004be2"
      },
      "source": [
        "# Ciências da Computação\n",
        "# desenvolver aqui o código\n",
        "\n",
        "media  = 0\n",
        "notas = []\n",
        "materia = []\n",
        "\n",
        "for aluno in alunos:\n",
        "  for key, value in aluno.items():\n",
        "    if value == 'Ciências da Computação':       \n",
        "      materia.append(value)    \n",
        "  \n",
        "  while len(notas) < len(materia):\n",
        "    if key == 'AV1':\n",
        "      media += value\n",
        "      notas.append(value)\n",
        "\n",
        "      \n",
        "print('Notas Gerais')\n",
        "print('Maior nota: ', max(notas))\n",
        "print('Menor nota: ', min(notas))      \n",
        "print('Média.....: ', round((media/len(notas)),2))\n",
        "\n",
        "# Saída\n",
        "# A MAIOR nota é.....: 10\n",
        "# A MENOR nota é.....: 4\n",
        "# A MÉDIA das notas é: 7.0"
      ],
      "execution_count": 4,
      "outputs": [
        {
          "output_type": "stream",
          "name": "stdout",
          "text": [
            "Notas Gerais\n",
            "Maior nota:  10\n",
            "Menor nota:  4\n",
            "Média.....:  7.0\n"
          ]
        }
      ]
    },
    {
      "cell_type": "code",
      "metadata": {
        "id": "qm7o9uJLIV7V",
        "colab": {
          "base_uri": "https://localhost:8080/"
        },
        "outputId": "8c166be9-911a-4842-cc64-862ac2ffb557"
      },
      "source": [
        "# Análise e Desenvolvimento de Sistemas\n",
        "# desenvolver aqui o código\n",
        "\n",
        "media  = 0\n",
        "notas = []\n",
        "materia = []\n",
        "\n",
        "for aluno in alunos:\n",
        "  for key, value in aluno.items():\n",
        "    if value == 'Análise e Desenvolvimento de Sistemas':       \n",
        "      materia.append(value)    \n",
        "  \n",
        "  while len(notas) < len(materia):\n",
        "    if key == 'AV1':\n",
        "      media += value\n",
        "      notas.append(value)\n",
        "\n",
        "      \n",
        "print('Notas Gerais')\n",
        "print('Maior nota: ', max(notas))\n",
        "print('Menor nota: ', min(notas))      \n",
        "print('Média.....: ', round((media/len(notas)),2))\n",
        "\n",
        "# Saída\n",
        "# A MAIOR nota é.....: 9\n",
        "# A MENOR nota é.....: 5\n",
        "# A MÉDIA das notas é: 7.56"
      ],
      "execution_count": 6,
      "outputs": [
        {
          "output_type": "stream",
          "name": "stdout",
          "text": [
            "Notas Gerais\n",
            "Maior nota:  9\n",
            "Menor nota:  5\n",
            "Média.....:  7.56\n"
          ]
        }
      ]
    },
    {
      "cell_type": "code",
      "metadata": {
        "id": "1e3oVnYTIV-N",
        "colab": {
          "base_uri": "https://localhost:8080/"
        },
        "outputId": "72d6e7a1-0b70-45b7-ac5a-3f0133a091c0"
      },
      "source": [
        "# Sistemas de Informação\n",
        "# desenvolver aqui o código\n",
        "\n",
        "media  = 0\n",
        "notas = []\n",
        "materia = []\n",
        "\n",
        "for aluno in alunos:\n",
        "  for key, value in aluno.items():\n",
        "    if value == 'Sistemas de Informação':       \n",
        "      materia.append(value)    \n",
        "  \n",
        "  while len(notas) < len(materia):\n",
        "    if key == 'AV1':\n",
        "      media += value\n",
        "      notas.append(value)\n",
        "\n",
        "      \n",
        "print('Notas Gerais')\n",
        "print('Maior nota: ', max(notas))\n",
        "print('Menor nota: ', min(notas))      \n",
        "print('Média.....: ', round((media/len(notas)),2))\n",
        "\n",
        "# Saída\n",
        "# A MAIOR notas é....: 7\n",
        "# A MENOR nota é.....: 2\n",
        "# A MÉDIA das notas é: 5.4"
      ],
      "execution_count": 59,
      "outputs": [
        {
          "output_type": "stream",
          "name": "stdout",
          "text": [
            "Notas Gerais\n",
            "Maior nota:  7\n",
            "Menor nota:  2\n",
            "Média.....:  5.4\n"
          ]
        }
      ]
    },
    {
      "cell_type": "markdown",
      "metadata": {
        "id": "FIzo4z_dHl6l"
      },
      "source": [
        "### Desenvolva um algoritmo que permita mostrar **de uma só vez** os resultados do exercício anterior para cada curso."
      ]
    },
    {
      "cell_type": "code",
      "metadata": {
        "id": "eWT5OxUFJeX-",
        "colab": {
          "base_uri": "https://localhost:8080/",
          "height": 265
        },
        "outputId": "f996eac9-269a-4f8a-edac-e766a095bbf2"
      },
      "source": [
        "# Resolução\n",
        "# desenvolver aqui o código\n",
        "\n",
        "media = 0\n",
        "materias = []\n",
        "notas = []\n",
        "a = []\n",
        "b = []\n",
        "c = []\n",
        "\n",
        "for aluno in alunos:\n",
        "  if aluno['curso'] == 'Análise e Desenvolvimento de Sistemas':\n",
        "    a.append(aluno['AV1'])\n",
        "    \n",
        "  if aluno['curso'] == 'Ciências da Computação':\n",
        "    b.append(aluno['AV1'])\n",
        "    \n",
        "  if aluno['curso'] == 'Sistemas de Informação':\n",
        "    c.append(aluno['AV1'])\n",
        "    \n",
        "print(f'Curso: Análise e Desenvolvimento de Sistemas {a}')\n",
        "print('Notas Gerais')\n",
        "print('Maior nota: ', max(notas))\n",
        "print('Menor nota: ', min(notas))      \n",
        "print('Média.....: ', round((media/len(notas)),2))\n",
        "\n",
        "\n",
        "\n",
        "      \n",
        "      \n",
        "      \n",
        "      \n",
        "\n",
        "\n",
        "\n",
        "# Saída\n",
        "# Curso: Análise e Desenvolvimento de Sistemas [7, 9, 5, 5, 9, 9, 7, 8, 9]\n",
        "# A MAIOR nota é.....: 9\n",
        "# A MENOR nota é.....: 5\n",
        "# A MÉDIA das notas é: 7.56\n",
        "\n",
        "# Curso: Ciências da Computação [8, 10, 10, 4, 7, 6, 4]\n",
        "# A MAIOR nota é.....: 10\n",
        "# A MENOR nota é.....: 4\n",
        "# A MÉDIA das notas é: 7.0\n",
        "\n",
        "# Curso: Sistemas de Informação [7, 6, 6, 6, 2]\n",
        "# A MAIOR nota é.....: 7\n",
        "# A MENOR nota é.....: 2\n",
        "# A MÉDIA das notas é: 5.4"
      ],
      "execution_count": 134,
      "outputs": [
        {
          "output_type": "stream",
          "name": "stdout",
          "text": [
            "Curso: Análise e Desenvolvimento de Sistemas [7, 9, 5, 5, 9, 9, 7, 8, 9]\n",
            "Notas Gerais\n"
          ]
        },
        {
          "output_type": "error",
          "ename": "ValueError",
          "evalue": "ignored",
          "traceback": [
            "\u001b[0;31m---------------------------------------------------------------------------\u001b[0m",
            "\u001b[0;31mValueError\u001b[0m                                Traceback (most recent call last)",
            "\u001b[0;32m<ipython-input-134-8aef62e7e333>\u001b[0m in \u001b[0;36m<module>\u001b[0;34m()\u001b[0m\n\u001b[1;32m     21\u001b[0m \u001b[0mprint\u001b[0m\u001b[0;34m(\u001b[0m\u001b[0;34mf'Curso: Análise e Desenvolvimento de Sistemas {a}'\u001b[0m\u001b[0;34m)\u001b[0m\u001b[0;34m\u001b[0m\u001b[0;34m\u001b[0m\u001b[0m\n\u001b[1;32m     22\u001b[0m \u001b[0mprint\u001b[0m\u001b[0;34m(\u001b[0m\u001b[0;34m'Notas Gerais'\u001b[0m\u001b[0;34m)\u001b[0m\u001b[0;34m\u001b[0m\u001b[0;34m\u001b[0m\u001b[0m\n\u001b[0;32m---> 23\u001b[0;31m \u001b[0mprint\u001b[0m\u001b[0;34m(\u001b[0m\u001b[0;34m'Maior nota: '\u001b[0m\u001b[0;34m,\u001b[0m \u001b[0mmax\u001b[0m\u001b[0;34m(\u001b[0m\u001b[0mnotas\u001b[0m\u001b[0;34m)\u001b[0m\u001b[0;34m)\u001b[0m\u001b[0;34m\u001b[0m\u001b[0;34m\u001b[0m\u001b[0m\n\u001b[0m\u001b[1;32m     24\u001b[0m \u001b[0mprint\u001b[0m\u001b[0;34m(\u001b[0m\u001b[0;34m'Menor nota: '\u001b[0m\u001b[0;34m,\u001b[0m \u001b[0mmin\u001b[0m\u001b[0;34m(\u001b[0m\u001b[0mnotas\u001b[0m\u001b[0;34m)\u001b[0m\u001b[0;34m)\u001b[0m\u001b[0;34m\u001b[0m\u001b[0;34m\u001b[0m\u001b[0m\n\u001b[1;32m     25\u001b[0m \u001b[0mprint\u001b[0m\u001b[0;34m(\u001b[0m\u001b[0;34m'Média.....: '\u001b[0m\u001b[0;34m,\u001b[0m \u001b[0mround\u001b[0m\u001b[0;34m(\u001b[0m\u001b[0;34m(\u001b[0m\u001b[0mmedia\u001b[0m\u001b[0;34m/\u001b[0m\u001b[0mlen\u001b[0m\u001b[0;34m(\u001b[0m\u001b[0mnotas\u001b[0m\u001b[0;34m)\u001b[0m\u001b[0;34m)\u001b[0m\u001b[0;34m,\u001b[0m\u001b[0;36m2\u001b[0m\u001b[0;34m)\u001b[0m\u001b[0;34m)\u001b[0m\u001b[0;34m\u001b[0m\u001b[0;34m\u001b[0m\u001b[0m\n",
            "\u001b[0;31mValueError\u001b[0m: max() arg is an empty sequence"
          ]
        }
      ]
    }
  ]
}