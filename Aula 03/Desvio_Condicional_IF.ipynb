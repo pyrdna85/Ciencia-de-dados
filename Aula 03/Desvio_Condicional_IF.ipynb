{
  "nbformat": 4,
  "nbformat_minor": 0,
  "metadata": {
    "celltoolbar": "Slideshow",
    "kernelspec": {
      "display_name": "Python [conda env:ciencia-de-dados]",
      "language": "python",
      "name": "conda-env-ciencia-de-dados-py"
    },
    "language_info": {
      "codemirror_mode": {
        "name": "ipython",
        "version": 3
      },
      "file_extension": ".py",
      "mimetype": "text/x-python",
      "name": "python",
      "nbconvert_exporter": "python",
      "pygments_lexer": "ipython3",
      "version": "3.7.10"
    },
    "rise": {
      "autolaunch": true,
      "enable_chalkboard": true,
      "progress": true,
      "scroll": true,
      "slideNumber": true
    },
    "colab": {
      "name": "Aula_2_Desvio_Condicional_IF.ipynb",
      "provenance": []
    }
  },
  "cells": [
    {
      "cell_type": "markdown",
      "metadata": {
        "id": "uqQ2K_xHtzww"
      },
      "source": [
        "[![Binder](https://mybinder.org/badge_logo.svg)](https://mybinder.org/v2/gh/storopoli/ciencia-de-dados/master?filepath=notebooks%2FAula_2_Desvio_Condicional_IF.ipynb)\n",
        "<br>\n",
        "[![Open In Colab](https://colab.research.google.com/assets/colab-badge.svg)](https://colab.research.google.com/github/storopoli/ciencia-de-dados/blob/master/notebooks/Aula_2_Desvio_Condicional_IF.ipynb)"
      ]
    },
    {
      "cell_type": "markdown",
      "metadata": {
        "id": "O3vlZ0Dvtzwz"
      },
      "source": [
        "# Desvio Condicional (`IF`)\n",
        "\n",
        "**Objetivos**: Apresentar desvio condicional em Python (`IF`)"
      ]
    },
    {
      "cell_type": "markdown",
      "metadata": {
        "id": "VUFUdMkrtzwz"
      },
      "source": [
        "Os desvios condicionais, também chamados de estruturas de seleção ou decisão, são\n",
        "utilizados quando existe a necessidade de verificar condições para a realização de uma\n",
        "instrução ou de uma sequência de instruções. Os testes de seleção também podem ser\n",
        "utilizados para verificar opções de escolha."
      ]
    },
    {
      "cell_type": "markdown",
      "metadata": {
        "id": "xw8csEUitzw0"
      },
      "source": [
        "## Desvio Condicional Simples\n",
        "\n",
        "Esse tipo de desvio é representado por uma instrução que avalia uma expressão lógica, resultando um valor que pode ser verdadeiro ou falso. Ele deve ser utilizado caso seja necessário executar instruções somente se uma condição for verdadeira.\n",
        "\n",
        "**Cuidado com indentação (*identation*)**\n",
        "\n",
        "```python\n",
        "if (condição):\n",
        "    instruções condição verdadeira\n",
        "instruções independentemente da condição ser verdadeira ou não\n",
        "```"
      ]
    },
    {
      "cell_type": "code",
      "metadata": {
        "id": "TBtzMRwxtzw1",
        "outputId": "c22fc337-46e6-454e-b3f3-26ba1331e647",
        "colab": {
          "base_uri": "https://localhost:8080/"
        }
      },
      "source": [
        "a = 5\n",
        "b = 5\n",
        "c = 0\n",
        "\n",
        "if (a == b): # teste lógico (comparação)\n",
        "  print('a é igual a b') # ESSA LINHA ESTÁ INDENTADA\n",
        "  c += 2 # operador de atribuição (c = c + 2) ou \n",
        "         # operador pre-incremental\n",
        "\n",
        "print('Valor de c: ', c)"
      ],
      "execution_count": 1,
      "outputs": [
        {
          "output_type": "stream",
          "text": [
            "a é igual a b\n",
            "Valor de c:  2\n"
          ],
          "name": "stdout"
        }
      ]
    },
    {
      "cell_type": "code",
      "metadata": {
        "id": "mRBn6-Dvtzw3",
        "outputId": "d9969c3a-5329-4fa8-8523-4b8b88bd598e",
        "colab": {
          "base_uri": "https://localhost:8080/"
        }
      },
      "source": [
        "a = 5\n",
        "b = 5\n",
        "c = 0\n",
        "if (a != b):\n",
        "  print('a é diferente de b')\n",
        "  c +=2\n",
        "print('Valor de c: ', c)"
      ],
      "execution_count": 2,
      "outputs": [
        {
          "output_type": "stream",
          "text": [
            "Valor de c:  0\n"
          ],
          "name": "stdout"
        }
      ]
    },
    {
      "cell_type": "code",
      "metadata": {
        "id": "diQ83FKntzw3",
        "outputId": "6f8971bc-b5ab-4ed4-83dd-83c8bb8140e8",
        "colab": {
          "base_uri": "https://localhost:8080/"
        }
      },
      "source": [
        "a = 5\n",
        "b = 5\n",
        "c = 0\n",
        "\n",
        "if (a == b):\n",
        "  print('a é igual a b')\n",
        "  c +=2\n",
        "\n",
        "  if (c + 5 == a):\n",
        "    print('c mais cinco é igual a a')\n",
        "    c += 2\n",
        "\n",
        "print('Valor de c: ', c)"
      ],
      "execution_count": 6,
      "outputs": [
        {
          "output_type": "stream",
          "text": [
            "a é igual a b\n",
            "Valor de c:  2\n"
          ],
          "name": "stdout"
        }
      ]
    },
    {
      "cell_type": "code",
      "metadata": {
        "id": "Tn64pq1_tzw4",
        "outputId": "671a39d2-073b-4834-a249-04ddfa53d1e1",
        "colab": {
          "base_uri": "https://localhost:8080/"
        }
      },
      "source": [
        "a = 5\n",
        "b = 5\n",
        "c = 0\n",
        "\n",
        "if (a == b):\n",
        "  print('a é igual a b')\n",
        "  if (c + 6 == a):\n",
        "    print('c mais seis é igual a a')\n",
        "    c += 2\n",
        "  c += 2\n",
        "print('Valor de c: ', c)"
      ],
      "execution_count": 8,
      "outputs": [
        {
          "output_type": "stream",
          "text": [
            "a é igual a b\n",
            "Valor de c:  2\n"
          ],
          "name": "stdout"
        }
      ]
    },
    {
      "cell_type": "markdown",
      "metadata": {
        "id": "t_kqtryPtzw5"
      },
      "source": [
        "## Desvio Condicional Composto\n",
        "O desvio condicional composto prevê uma condição com 2 conjuntos de instruções para serem realizados de acordo com a avaliação da resposta: um bloco de instruções para resposta verdadeiro e um bloco de instruções para resposta falso.\n",
        "\n",
        "```python\n",
        "if (condição):\n",
        "    instruções condição verdadeira\n",
        "else:\n",
        "    instrução condição falsa\n",
        "instruções independentemente da condição ser verdadeira ou não\n",
        "```"
      ]
    },
    {
      "cell_type": "code",
      "metadata": {
        "id": "fsK1WFj0tzw5",
        "outputId": "b174f689-bdfc-41ea-c789-32c43a05e9d1",
        "colab": {
          "base_uri": "https://localhost:8080/"
        }
      },
      "source": [
        "a = 5\n",
        "b = 5\n",
        "c = 0\n",
        "\n",
        "if (a == b):\n",
        "    print('a é igual a b')\n",
        "    if (c + 5 == a):\n",
        "        print('c mais cinco é igual a a')\n",
        "        c += 2\n",
        "else:\n",
        "    c += 3\n",
        "print('Valor de c: ', c)"
      ],
      "execution_count": 9,
      "outputs": [
        {
          "output_type": "stream",
          "text": [
            "a é igual a b\n",
            "c mais cinco é igual a a\n",
            "Valor de c:  2\n"
          ],
          "name": "stdout"
        }
      ]
    },
    {
      "cell_type": "code",
      "metadata": {
        "id": "vRXu_biItzw6",
        "outputId": "ea834102-d2f4-48fc-cd9c-98ee534db13b",
        "colab": {
          "base_uri": "https://localhost:8080/"
        }
      },
      "source": [
        "a = 5\n",
        "b = 5\n",
        "c = 0\n",
        "\n",
        "if (a != b):\n",
        "    print('a é diferente de b')\n",
        "    if (c + 6 == a):\n",
        "        print('c mais seis é igual a a')\n",
        "        c += 2\n",
        "else:\n",
        "    c += 3\n",
        "print('Valor de c: ', c)"
      ],
      "execution_count": 10,
      "outputs": [
        {
          "output_type": "stream",
          "text": [
            "Valor de c:  3\n"
          ],
          "name": "stdout"
        }
      ]
    },
    {
      "cell_type": "code",
      "metadata": {
        "id": "xiqAI1Gt1eTB",
        "outputId": "4c50f71f-46be-46aa-d61e-31650e863d7a",
        "colab": {
          "base_uri": "https://localhost:8080/"
        }
      },
      "source": [
        "# Implementar uma estrutura de decisão que\n",
        "# leia dois números pelo teclado e a operação:\n",
        "# soma, mult, div\n",
        "\n",
        "a = float(input(\"a: \"))\n",
        "b = float(input(\"b: \"))\n",
        "op = input(\"Operação (soma, mult ou div): \")\n",
        "\n",
        "if op == 'soma':\n",
        "  print('Soma:', a+b)\n",
        "\n",
        "if op == 'mult':\n",
        "  print('Multiplicação:', a*b)\n",
        "\n",
        "if op == 'div':\n",
        "  print('Divisão:', a/b)"
      ],
      "execution_count": 15,
      "outputs": [
        {
          "output_type": "stream",
          "text": [
            "2\n",
            "3\n",
            "mult\n",
            "6.0\n"
          ],
          "name": "stdout"
        }
      ]
    },
    {
      "cell_type": "markdown",
      "metadata": {
        "id": "ugBC6tTC5EPL"
      },
      "source": [
        "# Operador ternário\n",
        "É uma estrutura que permite que façamos comparações \"inline\""
      ]
    },
    {
      "cell_type": "code",
      "metadata": {
        "id": "MeZ3pPhZ5L62",
        "outputId": "c646fd05-a37d-4f9a-dfcd-7a3ca435ff98",
        "colab": {
          "base_uri": "https://localhost:8080/"
        }
      },
      "source": [
        "a = 5\n",
        "b = 5\n",
        "\n",
        "if a == b:\n",
        "  print('São iguais')\n",
        "else:\n",
        "  print('São diferentes')"
      ],
      "execution_count": 16,
      "outputs": [
        {
          "output_type": "stream",
          "text": [
            "São iguais\n"
          ],
          "name": "stdout"
        }
      ]
    },
    {
      "cell_type": "code",
      "metadata": {
        "id": "ScWZDzou5o_r",
        "outputId": "8fb8bafb-e76f-4b19-d8ce-e57fa028c580",
        "colab": {
          "base_uri": "https://localhost:8080/"
        }
      },
      "source": [
        "# o mesmo código acima, mas com o operador ternário\n",
        "result = 'São iguais' if a==b else 'São diferentes'\n",
        "print(result)"
      ],
      "execution_count": 19,
      "outputs": [
        {
          "output_type": "stream",
          "text": [
            "São iguais\n"
          ],
          "name": "stdout"
        }
      ]
    },
    {
      "cell_type": "markdown",
      "metadata": {
        "id": "lX3ny_Cztzw6"
      },
      "source": [
        "## Desvio Condicional Encadeado\n",
        "Um desvio condicional encadeado é uma sequência de testes de seleção, os quais serão executados ou não de acordo com o resultado das condições e de acordo com o encadeamento dos testes.\n",
        "\n",
        "Existem casos em que é necessário estabelecer algumas verificações lógicas de condições definidas sucessivamente. A ideia aqui apresentada sugere a possibilidade de usar uma condição dentro de outra condição, o que leva a uma estrutura de decisão encadeada ou aninhada."
      ]
    },
    {
      "cell_type": "markdown",
      "metadata": {
        "id": "1jjElt6ltzw6"
      },
      "source": [
        "```python\n",
        "if (condição_1):\n",
        "    instruções condição_1 verdadeira\n",
        "elif (condição_2):\n",
        "    instruções condição_2 verdadeira\n",
        "elif (condição_3):\n",
        "    instruções condição_3 verdadeira\n",
        "else:\n",
        "    instrução condições falsas\n",
        "instruções independentemente das condições serem verdadeiras ou não\n",
        "```"
      ]
    },
    {
      "cell_type": "code",
      "metadata": {
        "id": "_UVrAc6vtzw7",
        "outputId": "89ee6c84-9494-44ca-8f25-8375fd3293cc",
        "colab": {
          "base_uri": "https://localhost:8080/"
        }
      },
      "source": [
        "c = 0\n",
        "a = int(input(\"informe valor de a: \\n\")) #9\n",
        "\n",
        "if (a==1):\n",
        "    c = 10\n",
        "elif (a==2):\n",
        "    c = 11\n",
        "elif (a==3):\n",
        "    c = 12\n",
        "elif (a==4):\n",
        "    c = 13\n",
        "elif (a==5):\n",
        "    c = 14\n",
        "else:\n",
        "    c = 20\n",
        "print(c)"
      ],
      "execution_count": 20,
      "outputs": [
        {
          "output_type": "stream",
          "text": [
            "informe valor de a: \n",
            "5\n",
            "14\n"
          ],
          "name": "stdout"
        }
      ]
    },
    {
      "cell_type": "markdown",
      "metadata": {
        "id": "BVdPbzgVtzw7"
      },
      "source": [
        "## Atividade\n",
        "\n",
        "1. Designe uma variável `x` com o valor $8$\n",
        "2. Designe uma variável `y` com o valor $15$\n",
        "3. Crie 2 desvios condicionais:\n",
        "    * O primeiro deve imprimir \"Ao menos uma das condições foi satisfeita\" se `x` maior que $3$ **ou** `y` é número par\n",
        "    * O segundo deve imprimir \"Nenhuma condição foi satisfeita\" se `x` menor ou igual a $3$ **e** `y` é número ímpar\n",
        "\n",
        "\n",
        "Observação: use o módulo `%` para identificar número *ímpar* e *par*"
      ]
    },
    {
      "cell_type": "code",
      "metadata": {
        "id": "ceuwkGmEtzw7",
        "outputId": "09e47d5d-dfcc-480f-d172-b08fdbc6e2fd",
        "colab": {
          "base_uri": "https://localhost:8080/"
        }
      },
      "source": [
        "x = 8\n",
        "y = 15\n",
        "if (x > 3) or (y % 2 == 0):\n",
        "  print(\"Ao menos uma das condições foi satisfeita.\")\n",
        "else:\n",
        "  print(\"Nenhuma condição foi satisfeita.\")"
      ],
      "execution_count": 22,
      "outputs": [
        {
          "output_type": "stream",
          "text": [
            "Ao menos uma das condições foi satisfeita.\n"
          ],
          "name": "stdout"
        }
      ]
    },
    {
      "cell_type": "markdown",
      "metadata": {
        "id": "CdWfSxGYtzw8"
      },
      "source": [
        "Resolva a equação do 2° Grau a seguir, realizando a entrada dos valores de (a, b e c) pelo teclado.\n",
        "\n",
        "A solução real da equação é dada por $ax^2 + bx + c = 0$, fórmula de Baskara.\n",
        "\n",
        "Exemplo:\n",
        "\n",
        "$a=1$, $b=3$ e $c=2$\n",
        "\n",
        "$ \\Delta = b^2 - 4ac $, com $a \\neq 0$\n",
        "\n",
        "Se $ \\Delta < 0$ então mostrar \"não há solução real\"\n",
        "\n",
        "Senão, calcular e apresentar os resultados.\n",
        "\n",
        "$ x_{1}=\\frac{-b-\\sqrt{\\Delta}}{2a} $\n",
        "<br><br>\n",
        " $ x_{2} = \\frac{-b +\\sqrt{\\Delta}}{2a} $"
      ]
    },
    {
      "cell_type": "code",
      "metadata": {
        "id": "LdYdz9HEtzw8",
        "outputId": "d1c844bd-ab40-4e09-ea17-85205b3a7ea4",
        "colab": {
          "base_uri": "https://localhost:8080/"
        }
      },
      "source": [
        "import math\n",
        "\n",
        "a = int(input(\"informe valor de a: \\n\"))\n",
        "b = int(input(\"informe valor de b: \\n\"))\n",
        "c = int(input(\"informe valor de c: \\n\"))\n",
        "\n",
        "delta = (b ** 2) - 4*a*c\n",
        "print(\"\\n\")\n",
        "\n",
        "if (a == 0):\n",
        "   print(\"o valor de a deve ser diferente de 0.\")\n",
        "elif (delta < 0):\n",
        "  print(\"não há solução real.\")\n",
        "else:\n",
        "  raiz = math.sqrt(delta)\n",
        "  x1 = (-b + raiz) / (2 * a)\n",
        "  x2 = (-b - raiz) / (2 * a)\n",
        "  print(\"x1 =\",x1)\n",
        "  print(\"x2 =\",x2)"
      ],
      "execution_count": 23,
      "outputs": [
        {
          "output_type": "stream",
          "text": [
            "informe valor de a: \n",
            "1\n",
            "informe valor de b: \n",
            "3\n",
            "informe valor de c: \n",
            "2\n",
            "\n",
            "\n",
            "x1 = -1.0\n",
            "x2 = -2.0\n"
          ],
          "name": "stdout"
        }
      ]
    },
    {
      "cell_type": "code",
      "metadata": {
        "id": "t6jzX1DzEA6G"
      },
      "source": [
        "# Implementar um algoritmo usando if-elif-else para\n",
        "# calcular o imc de uma pessosa, dado o peso e altura\n",
        "# Apresentar o status de acorod com a tabela: \n",
        "# https://www.ricardogozzano.com.br/wp-content/uploads/2020/03/tabela_imc-576x409.png"
      ],
      "execution_count": null,
      "outputs": []
    },
    {
      "cell_type": "code",
      "metadata": {
        "id": "xc6dnTqkEy3p",
        "outputId": "e1565d12-3579-402b-c10c-ceba6862197e",
        "colab": {
          "base_uri": "https://localhost:8080/"
        }
      },
      "source": [
        "import math\n",
        "\n",
        "# pow() -> potência\n",
        "print(math.pow(2, 3))\n",
        "\n",
        "imc = peso / pow(altura, 2)"
      ],
      "execution_count": 29,
      "outputs": [
        {
          "output_type": "stream",
          "text": [
            "8.0\n"
          ],
          "name": "stdout"
        }
      ]
    },
    {
      "cell_type": "code",
      "metadata": {
        "id": "ll5s0MGRGJmb"
      },
      "source": [
        ""
      ],
      "execution_count": null,
      "outputs": []
    }
  ]
}