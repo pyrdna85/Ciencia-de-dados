{
  "nbformat": 4,
  "nbformat_minor": 0,
  "metadata": {
    "colab": {
      "name": "Cópia de Untitled1.ipynb",
      "provenance": [],
      "authorship_tag": "ABX9TyNDgqWTu+iaqQWC6hNEfkk1",
      "include_colab_link": true
    },
    "kernelspec": {
      "name": "python3",
      "display_name": "Python 3"
    },
    "language_info": {
      "name": "python"
    }
  },
  "cells": [
    {
      "cell_type": "markdown",
      "metadata": {
        "id": "view-in-github",
        "colab_type": "text"
      },
      "source": [
        "<a href=\"https://colab.research.google.com/github/pyrdna85/Ciencia-de-dados/blob/main/Projeto.ipynb\" target=\"_parent\"><img src=\"https://colab.research.google.com/assets/colab-badge.svg\" alt=\"Open In Colab\"/></a>"
      ]
    },
    {
      "cell_type": "code",
      "metadata": {
        "id": "NqGMdZnulRr1"
      },
      "source": [
        ""
      ],
      "execution_count": null,
      "outputs": []
    },
    {
      "cell_type": "markdown",
      "metadata": {
        "id": "yH33xTz-lSfr"
      },
      "source": [
        "### **PROJETO EM GOVERNANÇA DE TI**\n",
        "**Análise de dados:**\n",
        "Acidentes Aéreos Ocorridos no Brasil de 2010 a 2019\n",
        "\n",
        "\n",
        "\n",
        "O CENTRO DE INVESTIGAÇÃO E PREVENÇÃO DE ACIDENTES AERONÁUTICOS (CENIPA)"
      ]
    },
    {
      "cell_type": "code",
      "metadata": {
        "id": "p5pKP76L_W1v",
        "colab": {
          "base_uri": "https://localhost:8080/"
        },
        "outputId": "f831874e-52f0-48b7-c7a8-cf533d3caf16"
      },
      "source": [
        "import pandas as pd\n",
        "import matplotlib\n",
        "\n",
        "#Importação dataset\n",
        "uriCipa = pd.read_csv(\"https://raw.githubusercontent.com/EdsonMSouza/08_T22_QUI_N/main/CENIPA/ocorrencias_cenipa.csv\",sep =';',encoding='ISO-8859-1')\n",
        "uriCipa.head()\n",
        "\n",
        "uriCipa.columns.values"
      ],
      "execution_count": null,
      "outputs": [
        {
          "output_type": "execute_result",
          "data": {
            "text/plain": [
              "array(['codigo', 'tipo', 'descricao', 'cidade', 'estado', 'data', 'ano',\n",
              "       'hora', 'aeronave_liberada', 'status_investigacao',\n",
              "       'aeronaves_envolvidas', 'ocorrencia_saida_pista', 'aeronave_tipo',\n",
              "       'aeronave_fabricante', 'motor_tipo', 'aeronave_motor_quantidade',\n",
              "       'aeronave_assentos', 'aeronave_ano_fabricacao',\n",
              "       'aeronave_pais_fabricante', 'aeronave_fase_operacao',\n",
              "       'aeronave_nivel_dano'], dtype=object)"
            ]
          },
          "metadata": {},
          "execution_count": 8
        }
      ]
    }
  ]
}