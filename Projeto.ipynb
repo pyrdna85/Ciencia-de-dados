{
  "nbformat": 4,
  "nbformat_minor": 0,
  "metadata": {
    "colab": {
      "name": "Cópia de Untitled1.ipynb",
      "provenance": [],
      "authorship_tag": "ABX9TyNvm42i61FL8QvalV01uKRO",
      "include_colab_link": true
    },
    "kernelspec": {
      "name": "python3",
      "display_name": "Python 3"
    },
    "language_info": {
      "name": "python"
    }
  },
  "cells": [
    {
      "cell_type": "markdown",
      "metadata": {
        "id": "view-in-github",
        "colab_type": "text"
      },
      "source": [
        "<a href=\"https://colab.research.google.com/github/pyrdna85/Ciencia-de-dados/blob/main/Projeto.ipynb\" target=\"_parent\"><img src=\"https://colab.research.google.com/assets/colab-badge.svg\" alt=\"Open In Colab\"/></a>"
      ]
    },
    {
      "cell_type": "code",
      "metadata": {
        "id": "NqGMdZnulRr1"
      },
      "source": [
        ""
      ],
      "execution_count": null,
      "outputs": []
    },
    {
      "cell_type": "markdown",
      "metadata": {
        "id": "yH33xTz-lSfr"
      },
      "source": [
        "### **PROJETO EM GOVERNANÇA DE TI**\n",
        "**Análise de dados:**\n",
        "Acidentes Aéreos Ocorridos no Brasil de 2010 a 2019\n",
        "\n",
        "\n",
        "\n",
        "O CENTRO DE INVESTIGAÇÃO E PREVENÇÃO DE ACIDENTES AERONÁUTICOS (CENIPA)\n",
        "\n",
        "###**BIBLIOTECAS UTILIZADAS**\n",
        "\n",
        "\n",
        "**NUMPY:**\n",
        "NumPy é uma biblioteca para a linguagem de programação Python, que suporta o processamento de grandes, multi-dimensionais arranjos e matrizes, juntamente com uma grande coleção de funções matemáticas de alto nível para operar sobre estas matrizes.\n",
        "\n",
        "**PANDAS:**\n",
        "Em programação de computadores, pandas é uma biblioteca de software criada para a linguagem Python para manipulação e análise de dados. Em particular, oferece estruturas e operações para manipular tabelas numéricas e séries temporais\n",
        "\n",
        "**MATPLOTLIB:**\n",
        "Matplotlib é uma biblioteca de software para criação de gráficos e visualizações de dados em geral, feita para e da linguagem de programação Python e sua extensão de matemática NumPy.\n",
        "\n",
        "**SEABORN:**\n",
        "A biblioteca Seaborn atua em cima do matplotlib e ajuda a melhorar o visual dos gráficos, dando uma aparência mais bem acabada"
      ]
    },
    {
      "cell_type": "code",
      "metadata": {
        "id": "p5pKP76L_W1v",
        "colab": {
          "base_uri": "https://localhost:8080/"
        },
        "outputId": "7969e74a-725f-4eec-8696-a4a0065891e9"
      },
      "source": [
        "import numpy as np \n",
        "import pandas as pd \n",
        "import matplotlib.pyplot as plt\n",
        "import seaborn as sns\n",
        "\n",
        "X = np.linspace(-5,5,50)\n",
        "Y = 2.0*(X**3.0) + 5.0*(X**2.0) - 9.0*X - 2\n",
        "\n",
        "\n",
        "\n",
        "\n",
        "print('Aqui foi realizadas epenas a impressão das cinco primeiras linhas co arquivo CSV\\n')\n",
        "\n",
        "\n",
        "#Importação dataset\n",
        "data = pd.read_csv(\"https://raw.githubusercontent.com/EdsonMSouza/08_T22_QUI_N/main/CENIPA/ocorrencias_cenipa.csv\",sep =';',encoding='ISO-8859-1')\n",
        "print(data.head())\n"
      ],
      "execution_count": 23,
      "outputs": [
        {
          "output_type": "stream",
          "name": "stdout",
          "text": [
            "Aqui foi realizadas epenas a impressão das cinco primeiras linhas co arquivo CSV\n",
            "\n",
            "   codigo             tipo  ... aeronave_fase_operacao aeronave_nivel_dano\n",
            "0   40107         ACIDENTE  ...                  POUSO                LEVE\n",
            "1   40147         ACIDENTE  ...                  POUSO         SUBSTANCIAL\n",
            "2   40148         ACIDENTE  ...      APROXIMAÇÃO FINAL         SUBSTANCIAL\n",
            "3   40149         ACIDENTE  ...              DECOLAGEM           DESTRUÍDA\n",
            "4   40150  INCIDENTE GRAVE  ...                  POUSO                LEVE\n",
            "\n",
            "[5 rows x 21 columns]\n"
          ]
        }
      ]
    },
    {
      "cell_type": "markdown",
      "metadata": {
        "id": "phdnDYNr7Gz9"
      },
      "source": [
        "###**Limpeza de dados**\n",
        "\n",
        "A limpeza de dados demonstra que é possível anular a soma de um determinado item com a finalidade de reduzir um único ou varios valores de um resultado todal. "
      ]
    },
    {
      "cell_type": "code",
      "metadata": {
        "id": "tDdA49SFJU3-",
        "colab": {
          "base_uri": "https://localhost:8080/"
        },
        "outputId": "a12b6947-3eb1-4d09-830a-15ab273574c0"
      },
      "source": [
        "data.isnull().sum()"
      ],
      "execution_count": null,
      "outputs": [
        {
          "output_type": "execute_result",
          "data": {
            "text/plain": [
              "codigo                       0\n",
              "tipo                         0\n",
              "descricao                    0\n",
              "cidade                       0\n",
              "estado                       0\n",
              "data                         0\n",
              "ano                          0\n",
              "hora                         0\n",
              "aeronave_liberada            0\n",
              "status_investigacao          0\n",
              "aeronaves_envolvidas         0\n",
              "ocorrencia_saida_pista       0\n",
              "aeronave_tipo                0\n",
              "aeronave_fabricante          0\n",
              "motor_tipo                   0\n",
              "aeronave_motor_quantidade    0\n",
              "aeronave_assentos            0\n",
              "aeronave_ano_fabricacao      0\n",
              "aeronave_pais_fabricante     0\n",
              "aeronave_fase_operacao       0\n",
              "aeronave_nivel_dano          0\n",
              "dtype: int64"
            ]
          },
          "metadata": {},
          "execution_count": 44
        }
      ]
    },
    {
      "cell_type": "markdown",
      "metadata": {
        "id": "V2nbsDQI7NlW"
      },
      "source": [
        "###**Verificando informações do conjunto de dados**\n",
        "\n",
        "Conhecedo o tipo de dado, trata-se melhor a programação evitando erro e perda de tempo."
      ]
    },
    {
      "cell_type": "code",
      "metadata": {
        "id": "7tWY7eSAnDi_",
        "colab": {
          "base_uri": "https://localhost:8080/"
        },
        "outputId": "f0e96fb5-2943-461b-a806-2acb6af13906"
      },
      "source": [
        "data.info()"
      ],
      "execution_count": null,
      "outputs": [
        {
          "output_type": "stream",
          "name": "stdout",
          "text": [
            "<class 'pandas.core.frame.DataFrame'>\n",
            "RangeIndex: 5242 entries, 0 to 5241\n",
            "Data columns (total 21 columns):\n",
            " #   Column                     Non-Null Count  Dtype \n",
            "---  ------                     --------------  ----- \n",
            " 0   codigo                     5242 non-null   int64 \n",
            " 1   tipo                       5242 non-null   object\n",
            " 2   descricao                  5242 non-null   object\n",
            " 3   cidade                     5242 non-null   object\n",
            " 4   estado                     5242 non-null   object\n",
            " 5   data                       5242 non-null   object\n",
            " 6   ano                        5242 non-null   int64 \n",
            " 7   hora                       5242 non-null   object\n",
            " 8   aeronave_liberada          5242 non-null   object\n",
            " 9   status_investigacao        5242 non-null   object\n",
            " 10  aeronaves_envolvidas       5242 non-null   int64 \n",
            " 11  ocorrencia_saida_pista     5242 non-null   object\n",
            " 12  aeronave_tipo              5242 non-null   object\n",
            " 13  aeronave_fabricante        5242 non-null   object\n",
            " 14  motor_tipo                 5242 non-null   object\n",
            " 15  aeronave_motor_quantidade  5242 non-null   object\n",
            " 16  aeronave_assentos          5242 non-null   int64 \n",
            " 17  aeronave_ano_fabricacao    5242 non-null   int64 \n",
            " 18  aeronave_pais_fabricante   5242 non-null   object\n",
            " 19  aeronave_fase_operacao     5242 non-null   object\n",
            " 20  aeronave_nivel_dano        5242 non-null   object\n",
            "dtypes: int64(5), object(16)\n",
            "memory usage: 860.1+ KB\n"
          ]
        }
      ]
    },
    {
      "cell_type": "markdown",
      "metadata": {
        "id": "JAaHb7vU7Xde"
      },
      "source": [
        "###**Descrição**\n",
        "\n",
        "O comando describe traz em detalhes alguns valores importantes para análise de dados."
      ]
    },
    {
      "cell_type": "code",
      "metadata": {
        "id": "1DZBVm3enPkI",
        "colab": {
          "base_uri": "https://localhost:8080/"
        },
        "outputId": "d7f9e414-0fe5-4aec-8e4a-5e1414ed5543"
      },
      "source": [
        "print(data.describe())"
      ],
      "execution_count": null,
      "outputs": [
        {
          "output_type": "stream",
          "name": "stdout",
          "text": [
            "             codigo          ano  ...  aeronave_assentos  aeronave_ano_fabricacao\n",
            "count   5242.000000  5242.000000  ...        5242.000000              5242.000000\n",
            "mean   56472.458985  2014.180847  ...          27.575353              1863.320870\n",
            "std    13045.616926     2.849750  ...          54.528085               507.051481\n",
            "min    39115.000000  2010.000000  ...           0.000000                 0.000000\n",
            "25%    46024.500000  2012.000000  ...           2.000000              1978.000000\n",
            "50%    51693.500000  2014.000000  ...           6.000000              1992.000000\n",
            "75%    66450.750000  2017.000000  ...          10.000000              2007.000000\n",
            "max    79227.000000  2019.000000  ...         384.000000              9999.000000\n",
            "\n",
            "[8 rows x 5 columns]\n"
          ]
        }
      ]
    },
    {
      "cell_type": "code",
      "metadata": {
        "id": "MC6H19_1t11U"
      },
      "source": [
        ""
      ],
      "execution_count": null,
      "outputs": []
    },
    {
      "cell_type": "markdown",
      "metadata": {
        "id": "zuqikpVU7UF6"
      },
      "source": [
        "###**Verificando o número de linhas e colunas**"
      ]
    },
    {
      "cell_type": "code",
      "metadata": {
        "id": "1KlEPZiFna4a",
        "colab": {
          "base_uri": "https://localhost:8080/"
        },
        "outputId": "45b26735-ec02-4c36-8258-135b8a4814c0"
      },
      "source": [
        "print(\"Este Dataset contem {} linhas e {} colunas.\".format(data.shape[0],data.shape[1]))"
      ],
      "execution_count": null,
      "outputs": [
        {
          "output_type": "stream",
          "name": "stdout",
          "text": [
            "Este Dataset contem 5242 linhas e 21 colunas\n"
          ]
        }
      ]
    },
    {
      "cell_type": "markdown",
      "metadata": {
        "id": "7GYYXYzd7kH5"
      },
      "source": [
        "###**Contagem dos aviões por tipo de motor**\n",
        "\n",
        "Representação gráfica."
      ]
    },
    {
      "cell_type": "code",
      "metadata": {
        "id": "wRZS050jp5Vu",
        "colab": {
          "base_uri": "https://localhost:8080/",
          "height": 494
        },
        "outputId": "be5ab314-81eb-4a9a-f049-94c8d3548e08"
      },
      "source": [
        "plt.figure(figsize=(14,6))\n",
        "plt.style.use('ggplot')\n",
        "ax= sns.countplot('motor_tipo', data=data , palette = 'rocket_r')\n",
        "ax.set_xlabel(xlabel= \"Motores\",fontsize=18)\n",
        "ax.set_ylabel(ylabel = \"Contador\", fontsize = 18)\n",
        "ax.set_title(label = \"Tipos de motores\", fontsize = 20)\n",
        "plt.show()"
      ],
      "execution_count": null,
      "outputs": [
        {
          "output_type": "stream",
          "name": "stderr",
          "text": [
            "/usr/local/lib/python3.7/dist-packages/seaborn/_decorators.py:43: FutureWarning: Pass the following variable as a keyword arg: x. From version 0.12, the only valid positional argument will be `data`, and passing other arguments without an explicit keyword will result in an error or misinterpretation.\n",
            "  FutureWarning\n"
          ]
        },
        {
          "output_type": "display_data",
          "data": {
            "image/png": "[encoded data removed]",
            "text/plain": [
              "<Figure size 1008x432 with 1 Axes>"
            ]
          },
          "metadata": {}
        }
      ]
    },
    {
      "cell_type": "markdown",
      "metadata": {
        "id": "2IR8FBjT8Ty0"
      },
      "source": [
        "Verificação dos dados numéricos."
      ]
    },
    {
      "cell_type": "code",
      "metadata": {
        "id": "ISUPzOffuOZY",
        "colab": {
          "base_uri": "https://localhost:8080/"
        },
        "outputId": "551af228-f7c8-43c3-cae8-0c5e654a4664"
      },
      "source": [
        "print('\\033[31m'+'Aviões com motor do tipo Pistão são os que mais estavam envolvidos em acidentes aereos.'+'\\033[0;0m\\n')\n",
        "\n",
        "print(data.groupby(['motor_tipo']).agg({'aeronaves_envolvidas':'sum'}))"
      ],
      "execution_count": null,
      "outputs": [
        {
          "output_type": "stream",
          "name": "stdout",
          "text": [
            "\u001b[31mAviões com motor do tipo Pistão são os que mais estavam envolvidos em acidentes aereos.\u001b[0;0m\n",
            "\n",
            "               aeronaves_envolvidas\n",
            "motor_tipo                         \n",
            "INDETERMINADO                   134\n",
            "JATO                           1031\n",
            "PISTÃO                         2979\n",
            "SEM TRAÇÃO                       19\n",
            "TURBOEIXO                       509\n",
            "TURBOÉLICE                      632\n"
          ]
        }
      ]
    },
    {
      "cell_type": "markdown",
      "metadata": {
        "id": "jeY8q-Xa8jOG"
      },
      "source": [
        "###**Ano dos acidentes**"
      ]
    },
    {
      "cell_type": "code",
      "metadata": {
        "colab": {
          "base_uri": "https://localhost:8080/",
          "height": 504
        },
        "id": "LYT-WC7Tv68W",
        "outputId": "3b9f5061-d04f-4be3-90e6-7c3f4f6b7290"
      },
      "source": [
        "plt.style.use('ggplot')\n",
        "plt.figure(figsize= (14,6))\n",
        "ax = sns.countplot(x = \"ano\", data = data, palette = \"rocket_r\")\n",
        "ax.set_title(\"Ano dos acidentes\", fontsize = 25)\n",
        "ax.set_xlabel(\"Contador\", fontsize = 16)\n",
        "ax.set_ylabel(\"Ano\", fontsize = 16)"
      ],
      "execution_count": null,
      "outputs": [
        {
          "output_type": "execute_result",
          "data": {
            "text/plain": [
              "Text(0, 0.5, 'Ano')"
            ]
          },
          "metadata": {},
          "execution_count": 99
        },
        {
          "output_type": "display_data",
          "data": {
            "image/png": "[encoded data removed]",
            "text/plain": [
              "<Figure size 1120x480 with 1 Axes>"
            ]
          },
          "metadata": {}
        }
      ]
    },
    {
      "cell_type": "markdown",
      "metadata": {
        "id": "-vVgOI3k9BFo"
      },
      "source": [
        "Verificação dos dados numéricos."
      ]
    },
    {
      "cell_type": "code",
      "metadata": {
        "id": "4m7iPSgNw6T3",
        "colab": {
          "base_uri": "https://localhost:8080/"
        },
        "outputId": "254e8e24-3cd3-4e80-c622-bb7a57f3c7fd"
      },
      "source": [
        "print('\\033[31m'+'2012 e 2013 foram os anos com maior quantidade de acidentes aereos\\033[0;0m\\n')\n",
        "print(data.groupby(['ano']). agg({'aeronaves_envolvidas':'sum'}))"
      ],
      "execution_count": null,
      "outputs": [
        {
          "output_type": "stream",
          "name": "stdout",
          "text": [
            "\u001b[31m2012 e 2013 foram os anos com maior quantidade de acidentes aereos\u001b[0;0m\n",
            "\n",
            "      aeronaves_envolvidas\n",
            "ano                       \n",
            "2010                   553\n",
            "2011                   584\n",
            "2012                   651\n",
            "2013                   659\n",
            "2014                   578\n",
            "2015                   472\n",
            "2016                   413\n",
            "2017                   438\n",
            "2018                   454\n",
            "2019                   502\n"
          ]
        }
      ]
    },
    {
      "cell_type": "code",
      "metadata": {
        "id": "3mfhvUeR5K5y"
      },
      "source": [
        ""
      ],
      "execution_count": null,
      "outputs": []
    },
    {
      "cell_type": "markdown",
      "metadata": {
        "id": "80x-pzjM9IDg"
      },
      "source": [
        "###**Países fabricantes**"
      ]
    },
    {
      "cell_type": "code",
      "metadata": {
        "colab": {
          "base_uri": "https://localhost:8080/",
          "height": 435
        },
        "id": "xRxY1_8g5LbV",
        "outputId": "75e77686-73cb-4c88-c983-2e1c76e69d1b"
      },
      "source": [
        "plt.style.use('ggplot')\n",
        "plt.figure(figsize= (14,6))\n",
        "ax = sns.countplot(x = \"aeronave_pais_fabricante\", data = data, palette = \"rocket_r\")\n",
        "ax.set_title(\"Paises Fabricantes\", fontsize = 25)\n",
        "ax.set_xlabel(\"Paises\", fontsize = 16)\n",
        "ax.set_ylabel(\"Contador\", fontsize = 16)"
      ],
      "execution_count": null,
      "outputs": [
        {
          "output_type": "execute_result",
          "data": {
            "text/plain": [
              "Text(0, 0.5, 'Contador')"
            ]
          },
          "metadata": {},
          "execution_count": 19
        },
        {
          "output_type": "display_data",
          "data": {
            "image/png": "[encoded data removed]",
            "text/plain": [
              "<Figure size 1008x432 with 1 Axes>"
            ]
          },
          "metadata": {}
        }
      ]
    },
    {
      "cell_type": "markdown",
      "metadata": {
        "id": "Q2OP2agZ9L_D"
      },
      "source": [
        "Verificação dos dados numéricos."
      ]
    },
    {
      "cell_type": "code",
      "metadata": {
        "id": "mabDqavw5SoQ",
        "colab": {
          "base_uri": "https://localhost:8080/"
        },
        "outputId": "e58e9f1b-b8f7-45cf-9c2d-9f74f619ebd6"
      },
      "source": [
        "print('\\033[31m'+'O Brasil é o pais que mais fabricou aviões que foram comprometidos por acidentes aereos\\033[0;0m\\n')\n",
        "print(data.groupby(['aeronave_pais_fabricante']). agg({'aeronaves_envolvidas':'sum'}))"
      ],
      "execution_count": null,
      "outputs": [
        {
          "output_type": "stream",
          "name": "stdout",
          "text": [
            "\u001b[31mO Brasil é o pais que mais fabricou aviões que foram comprometidos por acidentes aereos\u001b[0;0m\n",
            "\n",
            "                          aeronaves_envolvidas\n",
            "aeronave_pais_fabricante                      \n",
            "ALEMANHA                                     3\n",
            "ARGENTINA                                    3\n",
            "BOLÍVIA                                      4\n",
            "BRASIL                                    5198\n",
            "CHILE                                        5\n",
            "CINGAPURA                                    1\n",
            "COLÔMBIA                                     2\n",
            "ESPANHA                                      3\n",
            "ESTADOS UNIDOS                              50\n",
            "FRANÇA                                       2\n",
            "ITÁLIA                                       1\n",
            "NÃO IDENTIFICADO                            11\n",
            "PANAMÁ                                       2\n",
            "PARAGUAI                                     8\n",
            "POLÔNIA                                      2\n",
            "PORTUGAL                                     5\n",
            "SUIÇA                                        1\n",
            "URUGUAI                                      1\n",
            "VENEZUELA                                    1\n",
            "ÁFRICA DO SUL                                1\n"
          ]
        }
      ]
    },
    {
      "cell_type": "markdown",
      "metadata": {
        "id": "QF4z1uuP9kC3"
      },
      "source": [
        "###**Tipo das aeronaves envolvidas**"
      ]
    },
    {
      "cell_type": "code",
      "metadata": {
        "id": "TzZE9Yf-zs2g",
        "colab": {
          "base_uri": "https://localhost:8080/",
          "height": 455
        },
        "outputId": "ea7ece2c-f731-4111-dfd6-934ad6cef93c"
      },
      "source": [
        "plt.style.use('ggplot')\n",
        "plt.figure(figsize= (14,6))\n",
        "ax = sns.countplot(x = \"aeronave_tipo\", data = data, palette = \"rocket_r\")\n",
        "ax.set_title(\"Tipo das aeronaves envolvidas\", fontsize = 25)\n",
        "ax.set_xlabel(\"Tipo\", fontsize = 16)\n",
        "ax.set_ylabel(\"Contador\", fontsize = 16)"
      ],
      "execution_count": null,
      "outputs": [
        {
          "output_type": "execute_result",
          "data": {
            "text/plain": [
              "Text(0, 0.5, 'Contador')"
            ]
          },
          "metadata": {},
          "execution_count": 78
        },
        {
          "output_type": "display_data",
          "data": {
            "image/png": "[encoded data removed]",
            "text/plain": [
              "<Figure size 1008x432 with 1 Axes>"
            ]
          },
          "metadata": {}
        }
      ]
    },
    {
      "cell_type": "markdown",
      "metadata": {
        "id": "qFz6Rl3h9zjv"
      },
      "source": [
        "Verificação dos dados numéricos."
      ]
    },
    {
      "cell_type": "code",
      "metadata": {
        "id": "MMXtwqKEz5HB",
        "colab": {
          "base_uri": "https://localhost:8080/"
        },
        "outputId": "2c46ab6d-d2a4-44f4-9a15-9ecc0f14ef5b"
      },
      "source": [
        "print('\\033[31m'+'Os aviões são os veículos aereos que mais sofreram acidentes\\033[0;0m\\n')\n",
        "print(data.groupby(['aeronave_tipo']). agg({'aeronaves_envolvidas':'sum'}))"
      ],
      "execution_count": null,
      "outputs": [
        {
          "output_type": "stream",
          "name": "stdout",
          "text": [
            "\u001b[31mOs aviões são os veículos aereos que mais sofreram acidentes\u001b[0;0m\n",
            "\n",
            "               aeronaves_envolvidas\n",
            "aeronave_tipo                      \n",
            "ANFÍBIO                          12\n",
            "AVIÃO                          4255\n",
            "BALÃO                             1\n",
            "DIRIGÍVEL                         2\n",
            "HELICÓPTERO                     609\n",
            "HIDROAVIÃO                        1\n",
            "INDETERMINADO                    87\n",
            "PLANADOR                         19\n",
            "TRIKE                             5\n",
            "ULTRALEVE                       313\n"
          ]
        }
      ]
    },
    {
      "cell_type": "code",
      "metadata": {
        "id": "ov8t7fgD0fl3",
        "colab": {
          "base_uri": "https://localhost:8080/",
          "height": 296
        },
        "outputId": "0afb3201-7fce-4a8e-e55d-c00edee8e08d"
      },
      "source": [
        "plt.plot(X,Y)\n",
        "Y_noise = np.random.randint(-30,30,50)\n",
        "Y_new = Y + Y_noise\n",
        "\n",
        "plt.plot(X,Y,label='ano')\n",
        "plt.scatter(X,Y_new,label='aeronave_assentos',color='red')\n",
        "plt.xlabel('X')\n",
        "plt.ylabel('Y')\n",
        "plt.legend()\n",
        "\n",
        "from sklearn.model_selection import train_test_split\n",
        "X_treino, X_teste, Y_treino, Y_teste = train_test_split(X, Y_new, test_size=0.30, shuffle=False, random_state=42)\n",
        "plt.plot(X,Y,label='Valores reais')\n",
        "plt.scatter(X_treino,Y_treino,label='aeronave_ano_fabricacao',color='red')\n",
        "plt.scatter(X_teste,Y_teste,label='aeronave_nivel_dano',color='green')\n",
        "plt.xlabel('X')\n",
        "plt.ylabel('Y')\n",
        "plt.legend()\n"
      ],
      "execution_count": 31,
      "outputs": [
        {
          "output_type": "execute_result",
          "data": {
            "text/plain": [
              "<matplotlib.legend.Legend at 0x7fa84a285d10>"
            ]
          },
          "metadata": {},
          "execution_count": 31
        },
        {
          "output_type": "display_data",
          "data": {
            "image/png": "[encoded data removed]",
            "text/plain": [
              "<Figure size 432x288 with 1 Axes>"
            ]
          },
          "metadata": {
            "needs_background": "light"
          }
        }
      ]
    },
    {
      "cell_type": "markdown",
      "metadata": {
        "id": "pdz17OplQu59"
      },
      "source": [
        "###**Conclusão**\n",
        "\n",
        "A ciência de dados é um dos fenômenos da programação mais ricos em detalhes e que tras com altissima precisão informações valiozas que podem colaborar imediatamente com a segurança de um veiculo relativamente simples até uma aeronave.\n",
        "Nesse trabalho pode-se observar por exemplo quais são os tipos de aviões que mais apresentaram mais falhas e o seu fabricante. Bem se observa que o Brasil precisa melhorar seu relacionamento internacional para melhorar e proporcionar construção de aviões mais seguros. Nesse mesmo raciocínio podemos garantir que o helicoptero é o meio de transporte mais seguro em relação ao avião.\n",
        "As comparações são infinitas e o uso da programação em ciência de dados é uma ferramenta poderosa e que tras uma evolução rápida e poderosa para o crescimento do homem na indústria.\n",
        "\n",
        "\n",
        "###**Referências bibliográficas**\n",
        "\n",
        "https://edisciplinas.usp.br/pluginfile.php/5742167/mod_resource/content/1/Data%20Science%20do%20zero%20-%20Primeiras%20regras.pdf\n",
        "\n",
        "https://www.youtube.com/playlist?list=PLEdMfJzXzUR3F2ZV3wZfVxE-zQS3SGSwo\n",
        "\n",
        "https://neylsoncrepalde.github.io/2018-02-25-regressao-linear-python/\n",
        "\n",
        "https://www.cetax.com.br/blog/data-science-ou-ciencia-de-dados/\n",
        "\n"
      ]
    }
  ]
}