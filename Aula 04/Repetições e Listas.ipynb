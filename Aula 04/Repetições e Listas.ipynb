{
  "nbformat": 4,
  "nbformat_minor": 0,
  "metadata": {
    "colab": {
      "name": "Aula 05 - Quinta Noite.ipynb",
      "provenance": [],
      "collapsed_sections": []
    },
    "kernelspec": {
      "name": "python3",
      "display_name": "Python 3"
    },
    "language_info": {
      "name": "python"
    }
  },
  "cells": [
    {
      "cell_type": "markdown",
      "metadata": {
        "id": "shTmlpl5sIn0"
      },
      "source": [
        "# Estruturas e Repetição\n",
        "\n",
        "1. WHILE - enquanto\n",
        "2. FOR - para"
      ]
    },
    {
      "cell_type": "markdown",
      "metadata": {
        "id": "Y0_kHL0EsW8F"
      },
      "source": [
        "```python\n",
        "while (<condição>):\n",
        "  <instruções a serem processadas enquanto a condição for verdardeira>\n",
        "```"
      ]
    },
    {
      "cell_type": "code",
      "metadata": {
        "colab": {
          "base_uri": "https://localhost:8080/"
        },
        "id": "2bctOmcerWxx",
        "outputId": "649e81f0-8e01-4216-fe0e-d2531e802de4"
      },
      "source": [
        "contador = 0\n",
        "while(contador < 11): # enquanto a condição for verdadeira\n",
        "  print(contador)\n",
        "  contador += 1"
      ],
      "execution_count": 40,
      "outputs": [
        {
          "output_type": "stream",
          "name": "stdout",
          "text": [
            "0\n",
            "1\n",
            "2\n",
            "3\n",
            "4\n",
            "5\n",
            "6\n",
            "7\n",
            "8\n",
            "9\n",
            "10\n"
          ]
        }
      ]
    },
    {
      "cell_type": "code",
      "metadata": {
        "colab": {
          "base_uri": "https://localhost:8080/"
        },
        "id": "hFgP7HJXs-0X",
        "outputId": "74723e18-665a-4db4-a04c-4c0ef26e1b85"
      },
      "source": [
        "# outro exemplo com formatação\n",
        "contador = 1\n",
        "while(contador < 11):\n",
        "  print(f\"Contador: {contador}\") # usando máscaras de formatação\n",
        "  contador += 1"
      ],
      "execution_count": 41,
      "outputs": [
        {
          "output_type": "stream",
          "name": "stdout",
          "text": [
            "Contador: 1\n",
            "Contador: 2\n",
            "Contador: 3\n",
            "Contador: 4\n",
            "Contador: 5\n",
            "Contador: 6\n",
            "Contador: 7\n",
            "Contador: 8\n",
            "Contador: 9\n",
            "Contador: 10\n"
          ]
        }
      ]
    },
    {
      "cell_type": "markdown",
      "metadata": {
        "id": "ru2caADFuRRo"
      },
      "source": [
        "# Laço FOR (`for in`)\n",
        "\n",
        "Este laço é caracterizado pela possibilidade de percorrer um conjunto de dados, sendo numéricos ou textuais.\n",
        "\n",
        "\n",
        "```python\n",
        "for <variável> in <iterável>:\n",
        "  <instruções a serem repetidas\n",
        "```  "
      ]
    },
    {
      "cell_type": "code",
      "metadata": {
        "colab": {
          "base_uri": "https://localhost:8080/"
        },
        "id": "cCCHzzpotrOq",
        "outputId": "215bb985-733d-4992-8ccf-ea4fa1b55c86"
      },
      "source": [
        "# range(start, lenght) é um intervalo numérico\n",
        "for numero in range(0, 10):\n",
        "  print(numero)"
      ],
      "execution_count": 42,
      "outputs": [
        {
          "output_type": "stream",
          "name": "stdout",
          "text": [
            "0\n",
            "1\n",
            "2\n",
            "3\n",
            "4\n",
            "5\n",
            "6\n",
            "7\n",
            "8\n",
            "9\n"
          ]
        }
      ]
    },
    {
      "cell_type": "code",
      "metadata": {
        "colab": {
          "base_uri": "https://localhost:8080/"
        },
        "id": "4wiWhFnWvZ6p",
        "outputId": "17c08436-9163-4a23-a475-cc9e0eeb28e7"
      },
      "source": [
        "# Alterando o 'step' - passo da contagem é o valor do incremento\n",
        "for numero in range(1, 11):\n",
        "  print(2 * numero)"
      ],
      "execution_count": 43,
      "outputs": [
        {
          "output_type": "stream",
          "name": "stdout",
          "text": [
            "2\n",
            "4\n",
            "6\n",
            "8\n",
            "10\n",
            "12\n",
            "14\n",
            "16\n",
            "18\n",
            "20\n"
          ]
        }
      ]
    },
    {
      "cell_type": "markdown",
      "metadata": {
        "id": "I_9aWR1mw4Z4"
      },
      "source": [
        "# Atividade para Treinar\n",
        "\n",
        "1. Leia pelo teclado 5 notas e mostre a média entre elas."
      ]
    },
    {
      "cell_type": "code",
      "metadata": {
        "colab": {
          "base_uri": "https://localhost:8080/"
        },
        "id": "rzwkKsB3v_dA",
        "outputId": "ea3e4971-30cf-4b2d-cf76-0b5f15c41f4b"
      },
      "source": [
        "soma = 0 \n",
        "for contador in range(1, 6):\n",
        "  valor = float(input(f\"Valor {contador}: \")) # ler o teclado\n",
        "  soma += valor # isso é igual a soma = soma + valor\n",
        "print(soma, (soma/contador))"
      ],
      "execution_count": 44,
      "outputs": [
        {
          "output_type": "stream",
          "name": "stdout",
          "text": [
            "Valor 1: 1\n",
            "Valor 2: 2\n",
            "Valor 3: 3\n",
            "Valor 4: 4\n",
            "Valor 5: 5\n",
            "15.0 3.0\n"
          ]
        }
      ]
    },
    {
      "cell_type": "markdown",
      "metadata": {
        "id": "WVoSXkQmxXzd"
      },
      "source": [
        "2. Utilizando a frase \"Mais vale um pássaro na mão do que dois voando.\":\n",
        "* Se o caractere for `a` ou `á`, trocar por `X`\n",
        "* Ou `else` para imprimir o caractere original."
      ]
    },
    {
      "cell_type": "code",
      "metadata": {
        "colab": {
          "base_uri": "https://localhost:8080/"
        },
        "id": "_azE4juOxwoS",
        "outputId": "f0d638d1-e037-4ee3-d1f5-9c8e81654243"
      },
      "source": [
        "frase = \"Mais vale um pássaro na mão do que dois voando.\"\n",
        "\n",
        "for letra in frase:\n",
        "  if letra == 'a' or letra == 'á':\n",
        "    print('X', end=\"\")\n",
        "  else:\n",
        "    print(letra, end=\"\")"
      ],
      "execution_count": 45,
      "outputs": [
        {
          "output_type": "stream",
          "name": "stdout",
          "text": [
            "MXis vXle um pXssXro nX mão do que dois voXndo."
          ]
        }
      ]
    },
    {
      "cell_type": "markdown",
      "metadata": {
        "id": "im0wXkZT4WHT"
      },
      "source": [
        "# Listas em Python\n",
        "\n",
        "São estruturas de dados similares aos `arrays`, porém aceitam dados de qualquer tipo."
      ]
    },
    {
      "cell_type": "code",
      "metadata": {
        "colab": {
          "base_uri": "https://localhost:8080/"
        },
        "id": "eKRm0T0SzGdk",
        "outputId": "9c083ad3-76c6-4ad9-bb66-fca642785bad"
      },
      "source": [
        "# declaração de uma lista\n",
        "variavel = ['Edson', 'Maria', 'Pedro']\n",
        "variavel"
      ],
      "execution_count": 46,
      "outputs": [
        {
          "output_type": "execute_result",
          "data": {
            "text/plain": [
              "['Edson', 'Maria', 'Pedro']"
            ]
          },
          "metadata": {},
          "execution_count": 46
        }
      ]
    },
    {
      "cell_type": "code",
      "metadata": {
        "colab": {
          "base_uri": "https://localhost:8080/"
        },
        "id": "8JV10Mpe5HjF",
        "outputId": "15e25810-9a1f-4c1e-d6b8-bdb5c0436525"
      },
      "source": [
        "dados =['Edson', 111.9, 'Maria', 18]\n",
        "dados"
      ],
      "execution_count": 47,
      "outputs": [
        {
          "output_type": "execute_result",
          "data": {
            "text/plain": [
              "['Edson', 111.9, 'Maria', 18]"
            ]
          },
          "metadata": {},
          "execution_count": 47
        }
      ]
    },
    {
      "cell_type": "code",
      "metadata": {
        "colab": {
          "base_uri": "https://localhost:8080/"
        },
        "id": "inuQDC275WDW",
        "outputId": "8394a993-2a8e-4fab-e01a-7943f8b0629f"
      },
      "source": [
        "# Mostra o tipo dos dados\n",
        "type(dados)"
      ],
      "execution_count": 48,
      "outputs": [
        {
          "output_type": "execute_result",
          "data": {
            "text/plain": [
              "list"
            ]
          },
          "metadata": {},
          "execution_count": 48
        }
      ]
    },
    {
      "cell_type": "code",
      "metadata": {
        "colab": {
          "base_uri": "https://localhost:8080/"
        },
        "id": "lVUy8H3b5aK3",
        "outputId": "ce041b67-d759-4f6f-f175-f52c3f509dd6"
      },
      "source": [
        "# Uma lista sempre tem o seu índice iniciado por \"0\"\n",
        "#            0         1         2         3         4\n",
        "alunos = ['Rafael', 'Fabio', 'Eduardo', 'Diogo', 'Camila']\n",
        "\n",
        "print(alunos[1]) # segundo elemento\n",
        "print(alunos[4]) # quarto elemento\n",
        "print(alunos)"
      ],
      "execution_count": 49,
      "outputs": [
        {
          "output_type": "stream",
          "name": "stdout",
          "text": [
            "Fabio\n",
            "Camila\n",
            "['Rafael', 'Fabio', 'Eduardo', 'Diogo', 'Camila']\n"
          ]
        }
      ]
    },
    {
      "cell_type": "code",
      "metadata": {
        "colab": {
          "base_uri": "https://localhost:8080/"
        },
        "id": "-txG_W8g6GHf",
        "outputId": "b0f039f8-4591-4204-c42f-7b92b8f93b26"
      },
      "source": [
        "# E para percorrer TODOS os elementos da lista\n",
        "for aluno in alunos:\n",
        "  print(aluno)"
      ],
      "execution_count": 50,
      "outputs": [
        {
          "output_type": "stream",
          "name": "stdout",
          "text": [
            "Rafael\n",
            "Fabio\n",
            "Eduardo\n",
            "Diogo\n",
            "Camila\n"
          ]
        }
      ]
    },
    {
      "cell_type": "code",
      "metadata": {
        "colab": {
          "base_uri": "https://localhost:8080/"
        },
        "id": "ukO0SbPD6tQR",
        "outputId": "de86f8ef-b9be-45ee-bd08-9c6553e8a15c"
      },
      "source": [
        "# Trabalhando com índices e valores em listas\n",
        "for indice, aluno in enumerate(alunos):\n",
        "  print(indice, aluno)"
      ],
      "execution_count": 51,
      "outputs": [
        {
          "output_type": "stream",
          "name": "stdout",
          "text": [
            "0 Rafael\n",
            "1 Fabio\n",
            "2 Eduardo\n",
            "3 Diogo\n",
            "4 Camila\n"
          ]
        }
      ]
    },
    {
      "cell_type": "markdown",
      "metadata": {
        "id": "RbCq_fFz8U7v"
      },
      "source": [
        "# Operações com Listas\n",
        "* adição: `append`\n",
        "* adição localizada: `insert`\n",
        "* remoção: `remove`\n",
        "* contagem de itens: `count`\n",
        "* quantidade de itens: `len`\n",
        "* ordenar crescente: `sort` e\n",
        "* ordenar decrescente: `reverse` - mas somente após a lista estar ordenada de forma crescente."
      ]
    },
    {
      "cell_type": "code",
      "metadata": {
        "colab": {
          "base_uri": "https://localhost:8080/"
        },
        "id": "E2K9PT8974z-",
        "outputId": "2f5a8698-202e-40b7-f281-d72d70c46b6f"
      },
      "source": [
        "unidades = [\n",
        "          'Vergueiro', \n",
        "          'Memorial', \n",
        "          'Vila Prudente', \n",
        "          'Santo Amaro',\n",
        "          'Vila Maria'\n",
        "          ]\n",
        "unidades"
      ],
      "execution_count": 52,
      "outputs": [
        {
          "output_type": "execute_result",
          "data": {
            "text/plain": [
              "['Vergueiro', 'Memorial', 'Vila Prudente', 'Santo Amaro', 'Vila Maria']"
            ]
          },
          "metadata": {},
          "execution_count": 52
        }
      ]
    },
    {
      "cell_type": "code",
      "metadata": {
        "colab": {
          "base_uri": "https://localhost:8080/"
        },
        "id": "NVGKnMCA9ajt",
        "outputId": "fcfd3ff9-3be3-4028-94cb-fdbea1001764"
      },
      "source": [
        "# Adicionando uma unidade\n",
        "unidades.append('Osaco')\n",
        "unidades"
      ],
      "execution_count": 53,
      "outputs": [
        {
          "output_type": "execute_result",
          "data": {
            "text/plain": [
              "['Vergueiro',\n",
              " 'Memorial',\n",
              " 'Vila Prudente',\n",
              " 'Santo Amaro',\n",
              " 'Vila Maria',\n",
              " 'Osaco']"
            ]
          },
          "metadata": {},
          "execution_count": 53
        }
      ]
    },
    {
      "cell_type": "code",
      "metadata": {
        "colab": {
          "base_uri": "https://localhost:8080/"
        },
        "id": "Rr8cZJdq9moS",
        "outputId": "698a6b5d-bff2-4c12-d4f4-39601c35968f"
      },
      "source": [
        "# Quantos elementos há na lista\n",
        "len(unidades)"
      ],
      "execution_count": 54,
      "outputs": [
        {
          "output_type": "execute_result",
          "data": {
            "text/plain": [
              "6"
            ]
          },
          "metadata": {},
          "execution_count": 54
        }
      ]
    },
    {
      "cell_type": "code",
      "metadata": {
        "colab": {
          "base_uri": "https://localhost:8080/"
        },
        "id": "MFhT2cdM-GZg",
        "outputId": "dd600006-a95f-499b-a30b-a3010c43e19a"
      },
      "source": [
        "unidades.append('Memorial')\n",
        "unidades"
      ],
      "execution_count": 55,
      "outputs": [
        {
          "output_type": "execute_result",
          "data": {
            "text/plain": [
              "['Vergueiro',\n",
              " 'Memorial',\n",
              " 'Vila Prudente',\n",
              " 'Santo Amaro',\n",
              " 'Vila Maria',\n",
              " 'Osaco',\n",
              " 'Memorial']"
            ]
          },
          "metadata": {},
          "execution_count": 55
        }
      ]
    },
    {
      "cell_type": "code",
      "metadata": {
        "colab": {
          "base_uri": "https://localhost:8080/"
        },
        "id": "brN7p47N-UyA",
        "outputId": "2ec4e874-a1d7-44b6-8823-144a356ac87f"
      },
      "source": [
        "# Contar recorrências (count)\n",
        "# Bom para achar duplicados\n",
        "unidades.count('Memorial')"
      ],
      "execution_count": 61,
      "outputs": [
        {
          "output_type": "execute_result",
          "data": {
            "text/plain": [
              "1"
            ]
          },
          "metadata": {},
          "execution_count": 61
        }
      ]
    },
    {
      "cell_type": "code",
      "metadata": {
        "colab": {
          "base_uri": "https://localhost:8080/"
        },
        "id": "Kz3x4hXx-m00",
        "outputId": "ab654bbf-c20c-432c-f41e-ec8d76a170ce"
      },
      "source": [
        "unidades"
      ],
      "execution_count": 57,
      "outputs": [
        {
          "output_type": "execute_result",
          "data": {
            "text/plain": [
              "['Vergueiro',\n",
              " 'Memorial',\n",
              " 'Vila Prudente',\n",
              " 'Santo Amaro',\n",
              " 'Vila Maria',\n",
              " 'Osaco',\n",
              " 'Memorial']"
            ]
          },
          "metadata": {},
          "execution_count": 57
        }
      ]
    },
    {
      "cell_type": "code",
      "metadata": {
        "colab": {
          "base_uri": "https://localhost:8080/"
        },
        "id": "IafaXrY3_IJw",
        "outputId": "a5ba5faa-a2fe-4d49-be64-26d03b855960"
      },
      "source": [
        "# Inserindo em um ponto específico da lista\n",
        "unidades.insert(4, 'Tatuapé')\n",
        "unidades"
      ],
      "execution_count": 58,
      "outputs": [
        {
          "output_type": "execute_result",
          "data": {
            "text/plain": [
              "['Vergueiro',\n",
              " 'Memorial',\n",
              " 'Vila Prudente',\n",
              " 'Santo Amaro',\n",
              " 'Tatuapé',\n",
              " 'Vila Maria',\n",
              " 'Osaco',\n",
              " 'Memorial']"
            ]
          },
          "metadata": {},
          "execution_count": 58
        }
      ]
    },
    {
      "cell_type": "code",
      "metadata": {
        "colab": {
          "base_uri": "https://localhost:8080/"
        },
        "id": "-9vqNj-w_cab",
        "outputId": "0ee91aa3-c020-4fe4-b44d-cd07bf970c36"
      },
      "source": [
        "# Removendo elementos\n",
        "unidades.remove('Memorial')\n",
        "unidades"
      ],
      "execution_count": 60,
      "outputs": [
        {
          "output_type": "execute_result",
          "data": {
            "text/plain": [
              "['Vergueiro',\n",
              " 'Vila Prudente',\n",
              " 'Santo Amaro',\n",
              " 'Tatuapé',\n",
              " 'Vila Maria',\n",
              " 'Osaco',\n",
              " 'Memorial']"
            ]
          },
          "metadata": {},
          "execution_count": 60
        }
      ]
    },
    {
      "cell_type": "code",
      "metadata": {
        "id": "bFiOK14HA7IU"
      },
      "source": [
        "unidades.insert(0, 'Memorial')\n",
        "unidades.insert(0, 'Memorial')"
      ],
      "execution_count": 64,
      "outputs": []
    },
    {
      "cell_type": "code",
      "metadata": {
        "colab": {
          "base_uri": "https://localhost:8080/"
        },
        "id": "WKWInzPHBNWJ",
        "outputId": "7d3afa74-5803-474e-9b54-1b091cabc402"
      },
      "source": [
        "unidades"
      ],
      "execution_count": 68,
      "outputs": [
        {
          "output_type": "execute_result",
          "data": {
            "text/plain": [
              "['Vergueiro', 'Vila Prudente', 'Santo Amaro', 'Tatuapé', 'Vila Maria', 'Osaco']"
            ]
          },
          "metadata": {},
          "execution_count": 68
        }
      ]
    },
    {
      "cell_type": "code",
      "metadata": {
        "id": "zEBJZxbaBYp3"
      },
      "source": [
        "# É com vocês: como remover todos os 'Memorial' da lista?\n",
        "for unidade in unidades:\n",
        "  if unidade == 'Memorial':\n",
        "    unidades.remove('Memorial')\n",
        "  else:\n",
        "    print('Não está na lista')\n",
        "\n",
        "unidades  "
      ],
      "execution_count": null,
      "outputs": []
    },
    {
      "cell_type": "code",
      "metadata": {
        "colab": {
          "base_uri": "https://localhost:8080/"
        },
        "id": "G9OZl-UXCda8",
        "outputId": "db4cd3c4-cd7e-4bd1-a3ce-daf75205954d"
      },
      "source": [
        "# Pertencimento - se está ou não dentro de uma lista\n",
        "print('Vergueiro' in unidades) # está\n",
        "print('Memorial' in unidades) # está\n",
        "print('Belém' not in unidades) # não está"
      ],
      "execution_count": 72,
      "outputs": [
        {
          "output_type": "stream",
          "name": "stdout",
          "text": [
            "True\n",
            "False\n",
            "True\n"
          ]
        }
      ]
    },
    {
      "cell_type": "code",
      "metadata": {
        "colab": {
          "base_uri": "https://localhost:8080/"
        },
        "id": "rCysWhuED1nO",
        "outputId": "7db06a47-0271-4dde-f955-0da0fcec9b5e"
      },
      "source": [
        "# Fatiamento em listas\n",
        "# Cuidado: o intervalo final não é INCLUSIVO\n",
        "aves = ['Andorinha', 'Pica-Pau', 'Beija-Flor', 'Canário']\n",
        "\n",
        "print(aves[1:3])\n",
        "print(aves[0:2])\n",
        "print(aves[2:4])\n",
        "print(aves[1:2])"
      ],
      "execution_count": 76,
      "outputs": [
        {
          "output_type": "stream",
          "name": "stdout",
          "text": [
            "['Pica-Pau', 'Beija-Flor']\n",
            "['Andorinha', 'Pica-Pau']\n",
            "['Beija-Flor', 'Canário']\n",
            "['Pica-Pau']\n"
          ]
        }
      ]
    },
    {
      "cell_type": "code",
      "metadata": {
        "colab": {
          "base_uri": "https://localhost:8080/"
        },
        "id": "ttJMDMKHEnAv",
        "outputId": "a9080303-d827-484a-e34a-15a5b8ca0e20"
      },
      "source": [
        "# Manipular o fatiamento com a movimentação dos \":\"\n",
        "print(aves)\n",
        "aves[::3]"
      ],
      "execution_count": 80,
      "outputs": [
        {
          "output_type": "stream",
          "name": "stdout",
          "text": [
            "['Andorinha', 'Pica-Pau', 'Beija-Flor', 'Canário']\n"
          ]
        },
        {
          "output_type": "execute_result",
          "data": {
            "text/plain": [
              "['Andorinha', 'Canário']"
            ]
          },
          "metadata": {},
          "execution_count": 80
        }
      ]
    },
    {
      "cell_type": "code",
      "metadata": {
        "colab": {
          "base_uri": "https://localhost:8080/"
        },
        "id": "3ktsFlyMFJKe",
        "outputId": "cd6a7bd5-640f-4ebb-b4ee-77caa815cb4b"
      },
      "source": [
        "aves[2:len(aves)]"
      ],
      "execution_count": 81,
      "outputs": [
        {
          "output_type": "execute_result",
          "data": {
            "text/plain": [
              "['Beija-Flor', 'Canário']"
            ]
          },
          "metadata": {},
          "execution_count": 81
        }
      ]
    },
    {
      "cell_type": "code",
      "metadata": {
        "colab": {
          "base_uri": "https://localhost:8080/"
        },
        "id": "2LtSIzV7Fr-n",
        "outputId": "a25bb0de-d6d8-4b5a-b5bd-4d43390b950d"
      },
      "source": [
        "aves[len(aves)-1:]"
      ],
      "execution_count": 85,
      "outputs": [
        {
          "output_type": "execute_result",
          "data": {
            "text/plain": [
              "['Canário']"
            ]
          },
          "metadata": {},
          "execution_count": 85
        }
      ]
    },
    {
      "cell_type": "markdown",
      "metadata": {
        "id": "_qdW849LGW7-"
      },
      "source": [
        "# Desafio da Noite\n",
        "## Atividade Lista\n",
        "\n",
        "1. Crie uma lista com todos os número primos até $100$\n",
        "2. Crie uma lista vazia chamada `log_numeros_primos`\n",
        "3. Crie um `for` loop para cada item da lista de números primos e peça para calcular o log do item e adicioná-lo à lista `log_numeros_primos`\n",
        "4. Imprima todos os items do décimo até o vigésimo da lista `log_numeros_primos` (*cuidado com indexação não-inclusiva*)"
      ]
    },
    {
      "cell_type": "code",
      "metadata": {
        "id": "P6ScsaNOFzmK"
      },
      "source": [
        ""
      ],
      "execution_count": null,
      "outputs": []
    }
  ]
}