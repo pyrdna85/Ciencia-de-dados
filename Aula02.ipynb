{
  "nbformat": 4,
  "nbformat_minor": 0,
  "metadata": {
    "celltoolbar": "Slideshow",
    "interpreter": {
      "hash": "5f57edc8ab8f7b961e464cf6cce72f8527ff9370e5e237d94a18e64275e674c4"
    },
    "kernelspec": {
      "display_name": "Python 3.9.6 64-bit ('ciencia-de-dados': conda)",
      "language": "python",
      "name": "python396jvsc74a57bd05f57edc8ab8f7b961e464cf6cce72f8527ff9370e5e237d94a18e64275e674c4"
    },
    "language_info": {
      "codemirror_mode": {
        "name": "ipython",
        "version": 3
      },
      "file_extension": ".py",
      "mimetype": "text/x-python",
      "name": "python",
      "nbconvert_exporter": "python",
      "pygments_lexer": "ipython3",
      "version": "3.9.6"
    },
    "rise": {
      "autolaunch": true,
      "enable_chalkboard": true,
      "progress": true,
      "scroll": true,
      "slideNumber": true
    },
    "colab": {
      "name": "Aula02.ipynb",
      "provenance": [],
      "include_colab_link": true
    }
  },
  "cells": [
    {
      "cell_type": "markdown",
      "metadata": {
        "id": "view-in-github",
        "colab_type": "text"
      },
      "source": [
        "<a href=\"https://colab.research.google.com/github/pyrdna85/Ciencia-de-dados/blob/main/Aula02.ipynb\" target=\"_parent\"><img src=\"https://colab.research.google.com/assets/colab-badge.svg\" alt=\"Open In Colab\"/></a>"
      ]
    },
    {
      "cell_type": "markdown",
      "metadata": {
        "id": "wKWeV1_cmYZQ"
      },
      "source": [
        "[![Binder](https://mybinder.org/badge_logo.svg)](https://mybinder.org/v2/gh/storopoli/ciencia-de-dados/master?filepath=notebooks%2FAula_1_Operadores_Aritmeticos_Relacionais_e_Logicos.ipynb)\n",
        "<br>\n",
        "[![Open In Colab](https://colab.research.google.com/assets/colab-badge.svg)](https://colab.research.google.com/github/storopoli/ciencia-de-dados/blob/master/notebooks/Aula_1_Operadores_Aritmeticos_Relacionais_e_Logicos.ipynb)"
      ]
    },
    {
      "cell_type": "markdown",
      "metadata": {
        "id": "JgNPb-uumYZU"
      },
      "source": [
        "# Operadores Aritméticos, Relacionais e Lógicos\n",
        "\n",
        "**Objetivos**: Apresentar variáveis, operadores aritméticos, relacionais e lógicos utilizados em Python."
      ]
    },
    {
      "cell_type": "markdown",
      "metadata": {
        "id": "zpRwk10ImYZW"
      },
      "source": [
        "Documentação Python 3: https://docs.python.org/3/library/index.html"
      ]
    },
    {
      "cell_type": "markdown",
      "metadata": {
        "id": "rdpAhMHQmYZX"
      },
      "source": [
        "## Variáveis\n",
        "\n",
        "Uma variável reserva espaço de memória para armazenar um certo tipo de dado e\n",
        "relacionado a um nome para referenciar o seu conteúdo (nome da variável).\n",
        "\n",
        "3 tipos básicos:\n",
        "* Numérico\n",
        "* Texto (String)\n",
        "* Lógico (Booleano)"
      ]
    },
    {
      "cell_type": "markdown",
      "metadata": {
        "id": "gGR0VG9SmYZY"
      },
      "source": [
        "### Variáveis Numéricas\n",
        "\n",
        "Podem ser de dois tipos:\n",
        "* `int`: número inteiro\n",
        "* `float`: número real (ponto flutuante)"
      ]
    },
    {
      "cell_type": "code",
      "metadata": {
        "colab": {
          "base_uri": "https://localhost:8080/"
        },
        "id": "m-u67R3smYZZ",
        "outputId": "1501173d-50ee-49f0-e34d-995f4d3aeb65"
      },
      "source": [
        "# isto é um comentário\n",
        "x = 10\n",
        "y = 8.9\n",
        "\n",
        "print(type(x))\n",
        "print(type(y))"
      ],
      "execution_count": null,
      "outputs": [
        {
          "output_type": "stream",
          "text": [
            "<class 'int'>\n",
            "<class 'float'>\n"
          ],
          "name": "stdout"
        }
      ]
    },
    {
      "cell_type": "markdown",
      "metadata": {
        "id": "D48Rolh9mYZd"
      },
      "source": [
        "### Variáveis de Texto (`string`)\n",
        "\n",
        "Qualquer texto é uma `string`"
      ]
    },
    {
      "cell_type": "code",
      "metadata": {
        "colab": {
          "base_uri": "https://localhost:8080/"
        },
        "id": "-97mhLZhmYZe",
        "outputId": "05333282-a3f9-4c20-823b-b60d90352286"
      },
      "source": [
        "universidade = 'UNINOVE'\n",
        "logo = 'uni9 é 10'\n",
        "professor = 'José Eduardo Storopoli'\n",
        "\n",
        "print(type(logo))\n",
        "print('Número de caracteres do logo: ', len(logo)) # usando ,\n",
        "print('Bem-vindo à ' + universidade +\n",
        "      ', o seu professor é ' + professor) # usando +"
      ],
      "execution_count": null,
      "outputs": [
        {
          "output_type": "stream",
          "text": [
            "<class 'str'>\n",
            "Número de caracteres do logo:  9\n",
            "Bem-vindo à UNINOVE, o seu professor é José Eduardo Storopoli\n"
          ],
          "name": "stdout"
        }
      ]
    },
    {
      "cell_type": "markdown",
      "metadata": {
        "id": "qmQfWwDpmYZj"
      },
      "source": [
        "### Variáveis Lógicas (`bool`)\n",
        "\n",
        "* Verdadeiro = `True` = $1$\n",
        "* Falso = `False` = $0$"
      ]
    },
    {
      "cell_type": "code",
      "metadata": {
        "id": "9jA94egZmYZm",
        "outputId": "50bc36af-045d-40d9-a44a-70850f3a7a1a"
      },
      "source": [
        "mortalidade = True\n",
        "\n",
        "print(mortalidade)\n",
        "print(type(mortalidade))"
      ],
      "execution_count": null,
      "outputs": [
        {
          "name": "stdout",
          "output_type": "stream",
          "text": [
            "True\n",
            "<class 'bool'>\n"
          ]
        }
      ]
    },
    {
      "cell_type": "markdown",
      "metadata": {
        "id": "ZYU97gnBmYZo"
      },
      "source": [
        "## Leitura de Dados do Teclado\n",
        "\n",
        "A função utilizada para efetuar a leitura de dados a partir do teclado é a função `input()`."
      ]
    },
    {
      "cell_type": "code",
      "metadata": {
        "colab": {
          "base_uri": "https://localhost:8080/"
        },
        "id": "i3OEwAVymYZp",
        "outputId": "ec480cc8-38be-4853-c491-ca8b25f93680"
      },
      "source": [
        "print(\"dados do aluno\")\n",
        "nome = input(\"informe seu nome: \")\n",
        "idade = input (\"informe sua idade: \")\n",
        "print (f'{nome}, você tem {idade} anos')"
      ],
      "execution_count": null,
      "outputs": [
        {
          "output_type": "stream",
          "text": [
            "dados do aluno\n",
            "informe seu nome: Rodrigo\n",
            "informe sua idade: 36\n",
            "Rodrigo, você tem 36 anos\n"
          ],
          "name": "stdout"
        }
      ]
    },
    {
      "cell_type": "markdown",
      "metadata": {
        "id": "dsfLESrKmYZp"
      },
      "source": [
        "## Operadores Aritméticos\n",
        "\n",
        "* Soma `x + y`\n",
        "* Subtração `x - y`\n",
        "* Multiplicação `x * y`\n",
        "* Divisão `x / y`\n",
        "* Divisão desconsiderando a parte fracionária `x // y`\n",
        "* Resto de uma divisão `x % y`\n",
        "* Absoluto `abs(x)`\n",
        "* Converter para Inteiro `int(x)`\n",
        "* Converter para Real `float(x)`\n",
        "* Potência `x ** y`"
      ]
    },
    {
      "cell_type": "code",
      "metadata": {
        "colab": {
          "base_uri": "https://localhost:8080/"
        },
        "id": "-Nxly2WemYZq",
        "outputId": "cfd1722a-f1f3-4a6e-a3ea-6acc7e1f059f"
      },
      "source": [
        "x = 10\n",
        "y = 3\n",
        "\n",
        "print('Soma: ', x + y)\n",
        "print('Subtração: ', x - y)\n",
        "print('Multiplicação: ', x * y)\n",
        "print('Divisão: ', x / y)\n",
        "print('Divisão desconsiderando a parte fracionária: ', x // y)\n",
        "print('Módulo - Resto de uma divisão: ', x % y)\n",
        "print('x elevado à y potência: ', x ** y)\n",
        "\n",
        "print(int(\"10\"))\n",
        "print(float(\"123.4567\"))"
      ],
      "execution_count": null,
      "outputs": [
        {
          "output_type": "stream",
          "text": [
            "Soma:  13\n",
            "Subtração:  7\n",
            "Multiplicação:  30\n",
            "Divisão:  3.3333333333333335\n",
            "Divisão desconsiderando a parte fracionária:  3\n",
            "Módulo - Resto de uma divisão:  1\n",
            "x elevado à y potência:  1000\n",
            "10\n",
            "123.4567\n"
          ],
          "name": "stdout"
        }
      ]
    },
    {
      "cell_type": "markdown",
      "metadata": {
        "id": "xKnyJJEhmYZr"
      },
      "source": [
        "### Arredondamento, Piso e Teto"
      ]
    },
    {
      "cell_type": "code",
      "metadata": {
        "colab": {
          "base_uri": "https://localhost:8080/"
        },
        "id": "OzMxyXJhmYZs",
        "outputId": "8fc9c5c1-7dc3-446a-d859-a4ef358d96e8"
      },
      "source": [
        "import math\n",
        "#import math as m \n",
        "#from math import floor, ceil\n",
        "\n",
        "print('round: ', round(3.49 ))\n",
        "print('floor: ', math.floor(3.33))\n",
        "print('ceil: ', math.ceil(4.10))\n",
        "\n",
        "# O round() também pode ser utilizado para determinar o números de casas depois da vírgula a ser apresentado\n",
        "print('round, casas: ', round(3.33156487, 3)) # 3 casas\n",
        "print('round, casas: ', round(3.33156487, 2)) # 2 casas"
      ],
      "execution_count": null,
      "outputs": [
        {
          "output_type": "stream",
          "text": [
            "round:  3\n",
            "floor:  3\n",
            "ceil:  5\n",
            "round, casas:  3.332\n",
            "round, casas:  3.33\n"
          ],
          "name": "stdout"
        }
      ]
    },
    {
      "cell_type": "code",
      "metadata": {
        "colab": {
          "base_uri": "https://localhost:8080/"
        },
        "id": "N3Le9mcn01LV",
        "outputId": "788e9329-eae1-4953-8e44-15062d359ea4"
      },
      "source": [
        "import math as m\n",
        "print('round:', round(3.50))\n",
        "print('floor:', m.floor(3.99))\n",
        "print('ceil:', m.ceil(4.93))"
      ],
      "execution_count": null,
      "outputs": [
        {
          "output_type": "stream",
          "text": [
            "round: 4\n",
            "floor: 3\n",
            "ceil: 5\n"
          ],
          "name": "stdout"
        }
      ]
    },
    {
      "cell_type": "markdown",
      "metadata": {
        "id": "pU9_6vJgmYZt"
      },
      "source": [
        "## Operadores Relacionais\n",
        "\n",
        "Uma condição é o estabelecimento de uma relação lógica entre dois elementos. Para definir uma relação lógica é necessário usar operadores relacionais. Uma relação lógica (comparação) retorna somente os valores verdadeiro ou falso."
      ]
    },
    {
      "cell_type": "markdown",
      "metadata": {
        "id": "n79xfTDDmYZt"
      },
      "source": [
        "* Igual a: `x == y`\n",
        "* Maior que: `x > y`\n",
        "* Menor que: `x < y`\n",
        "* Maior ou igual a: `x >= y`\n",
        "* Menor ou igual a: `x <= y`\n",
        "* Diferente de: `x != y`"
      ]
    },
    {
      "cell_type": "code",
      "metadata": {
        "id": "QP3BkfqvmYZt",
        "outputId": "b5357855-d6ea-418e-a952-8b86b8beccb7"
      },
      "source": [
        "x = 3\n",
        "y = 4\n",
        "\n",
        "\n",
        "print('Igual a: ', x == y)\n",
        "print('Maior que: ', x > y)\n",
        "print('Menor que: ', x < y)\n",
        "print('Maior ou igual a: ', x >= y)\n",
        "print('Menor ou igual a: ', x <= y)\n",
        "print('Diferente de: ', x != y)"
      ],
      "execution_count": null,
      "outputs": [
        {
          "name": "stdout",
          "output_type": "stream",
          "text": [
            "Igual a:  False\n",
            "Maior que:  False\n",
            "Menor que:  True\n",
            "Maior ou igual a:  False\n",
            "Menor ou igual a:  True\n",
            "Diferente de:  True\n"
          ]
        }
      ]
    },
    {
      "cell_type": "markdown",
      "metadata": {
        "id": "TOLm846cmYZu"
      },
      "source": [
        "## Operadores Lógicos\n",
        "São utilizados para uma mesma tomada de decisão que necessite de mais de uma condição. Também são conhecidos como operadores booleanos. Operadores lógicos retornam somente os valores verdadeiro ou falso.\n",
        "\n",
        "| Operador Lógico | Função    | Prioridade |\n",
        "|-----------------|-----------|---------------------|\n",
        "| `NOT`           | Negação   | 1                   |\n",
        "| `AND`           | Conjunção | 2                   |\n",
        "| `OR`            | Disjunção | 3                   |"
      ]
    },
    {
      "cell_type": "code",
      "metadata": {
        "id": "s7V3tbX6mYZu",
        "outputId": "1d1efebf-3a03-4fd8-e2c8-48311ea5b7f3"
      },
      "source": [
        "x = 1\n",
        "y = 3\n",
        "z = 5\n",
        "w = 2\n",
        "\n",
        "print(z > w and w > y)  # False\n",
        "print(z > w or w > y)   # True\n",
        "print(not y + w == z)   # False"
      ],
      "execution_count": null,
      "outputs": [
        {
          "name": "stdout",
          "output_type": "stream",
          "text": [
            "False\n",
            "True\n",
            "False\n"
          ]
        }
      ]
    },
    {
      "cell_type": "markdown",
      "metadata": {
        "id": "_TpYoTbHmYZu"
      },
      "source": [
        "## Exercícios de fixação"
      ]
    },
    {
      "cell_type": "code",
      "metadata": {
        "colab": {
          "base_uri": "https://localhost:8080/"
        },
        "id": "d-7NeO_0mYZv",
        "outputId": "fdb33820-d465-475f-824a-6720bb2721d4"
      },
      "source": [
        "# Faça a leitura pelo teclado de três variáveis (a, b e c) e mostre o resultado para: a + b - c + (a * c) / a ** 2\n",
        "nome = input('Digie seu nome: ')\n",
        "idade = input ('Digite sua idade: ')\n",
        "sexo = input('Digite seu sexo: ')\n",
        "print(f'Olá {nome}, você tem {idade} e seu sexo é {sexo}.')"
      ],
      "execution_count": null,
      "outputs": [
        {
          "output_type": "stream",
          "text": [
            "Digie seu nome: Rodrigo\n",
            "Digite sua idade: 36\n",
            "Digite seu sexo: M\n",
            "Olá Rodrigo, você tem 36 e seu sexo é M\n"
          ],
          "name": "stdout"
        }
      ]
    },
    {
      "cell_type": "code",
      "metadata": {
        "colab": {
          "base_uri": "https://localhost:8080/"
        },
        "id": "PMNiyjbRmYZv",
        "outputId": "dae5e2a5-93f8-4187-f85b-b642e780ec3a"
      },
      "source": [
        "# Calcular a área de um cubo\n",
        "lado = input(\"Digite o lado da face do cubo: \")\n",
        "Af = lado\n",
        "area_total = 6 * (int(Af) ** 2)\n",
        "print(area_total)"
      ],
      "execution_count": null,
      "outputs": [
        {
          "output_type": "stream",
          "text": [
            "Digite o lado da face do cubo: 5\n",
            "150\n"
          ],
          "name": "stdout"
        }
      ]
    },
    {
      "cell_type": "code",
      "metadata": {
        "colab": {
          "base_uri": "https://localhost:8080/"
        },
        "id": "-LTr0JAOmYZw",
        "outputId": "5436dfaa-ddda-45a5-ff2d-e22967f765ea"
      },
      "source": [
        "# Mostre os resultados das operações com as casas decimais determinadas:\n",
        "import math as m\n",
        "print(round(78 / 35, 3))              # três (2.229)\n",
        "print(round(-5 / 9, 6))               # cinco (-0.55556)\n",
        "print(round(int(\"122\") / float(\"49.2\"), 2))       # duas (2.48)\n",
        "print(round(float(\"2.334\") * float(\"2.5678\"), 3))   # três (5.993)\n"
      ],
      "execution_count": null,
      "outputs": [
        {
          "output_type": "stream",
          "text": [
            "2.229\n",
            "-0.555556\n",
            "2.48\n",
            "5.993\n"
          ],
          "name": "stdout"
        }
      ]
    },
    {
      "cell_type": "code",
      "metadata": {
        "colab": {
          "base_uri": "https://localhost:8080/"
        },
        "id": "p4gdskr6Ev93",
        "outputId": "f606176a-9d4b-4ee5-8010-365725325ad9"
      },
      "source": [
        "altura = float(input('Digite sua altura: '))\n",
        "peso = int(input('Digite seu peso: '))\n",
        "calc = peso / (altura * altura)\n",
        "print(f'Seu IMC é de: {round(calc)}')"
      ],
      "execution_count": null,
      "outputs": [
        {
          "output_type": "stream",
          "text": [
            "Digite sua altura: 1.77\n",
            "Digite seu peso: 94\n",
            "Seu IMC é de 30\n"
          ],
          "name": "stdout"
        }
      ]
    }
  ]
}