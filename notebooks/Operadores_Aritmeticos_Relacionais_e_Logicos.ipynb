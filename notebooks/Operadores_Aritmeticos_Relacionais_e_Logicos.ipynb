{
  "nbformat": 4,
  "nbformat_minor": 0,
  "metadata": {
    "celltoolbar": "Slideshow",
    "interpreter": {
      "hash": "5f57edc8ab8f7b961e464cf6cce72f8527ff9370e5e237d94a18e64275e674c4"
    },
    "kernelspec": {
      "display_name": "Python 3.9.6 64-bit ('ciencia-de-dados': conda)",
      "language": "python",
      "name": "python396jvsc74a57bd05f57edc8ab8f7b961e464cf6cce72f8527ff9370e5e237d94a18e64275e674c4"
    },
    "language_info": {
      "codemirror_mode": {
        "name": "ipython",
        "version": 3
      },
      "file_extension": ".py",
      "mimetype": "text/x-python",
      "name": "python",
      "nbconvert_exporter": "python",
      "pygments_lexer": "ipython3",
      "version": "3.9.6"
    },
    "rise": {
      "autolaunch": true,
      "enable_chalkboard": true,
      "progress": true,
      "scroll": true,
      "slideNumber": true
    },
    "colab": {
      "name": "Aula_1_Operadores_Aritmeticos_Relacionais_e_Logicos.ipynb",
      "provenance": []
    }
  },
  "cells": [
    {
      "cell_type": "markdown",
      "metadata": {
        "id": "yTuYNJ3JnyV3"
      },
      "source": [
        "[![Binder](https://mybinder.org/badge_logo.svg)](https://mybinder.org/v2/gh/storopoli/ciencia-de-dados/master?filepath=notebooks%2FAula_1_Operadores_Aritmeticos_Relacionais_e_Logicos.ipynb)\n",
        "<br>\n",
        "[![Open In Colab](https://colab.research.google.com/assets/colab-badge.svg)](https://colab.research.google.com/github/storopoli/ciencia-de-dados/blob/master/notebooks/Aula_1_Operadores_Aritmeticos_Relacionais_e_Logicos.ipynb)"
      ]
    },
    {
      "cell_type": "markdown",
      "metadata": {
        "id": "ON8lDFmonyV6"
      },
      "source": [
        "# Operadores Aritméticos, Relacionais e Lógicos\n",
        "\n",
        "**Objetivos**: Apresentar variáveis, operadores aritméticos, relacionais e lógicos utilizados em Python."
      ]
    },
    {
      "cell_type": "markdown",
      "metadata": {
        "id": "XCRYAembnyV7"
      },
      "source": [
        "Documentação Python 3: https://docs.python.org/3/library/index.html"
      ]
    },
    {
      "cell_type": "markdown",
      "metadata": {
        "id": "4aaQt1a6nyV8"
      },
      "source": [
        "## Variáveis\n",
        "\n",
        "Uma variável reserva espaço de memória para armazenar um certo tipo de dado e\n",
        "relacionado a um nome para referenciar o seu conteúdo (nome da variável).\n",
        "\n",
        "3 tipos básicos:\n",
        "* Numérico\n",
        "* Texto (String)\n",
        "* Lógico (Booleano)"
      ]
    },
    {
      "cell_type": "markdown",
      "metadata": {
        "id": "5hyBw_rUnyV9"
      },
      "source": [
        "### Variáveis Numéricas\n",
        "\n",
        "Podem ser de dois tipos:\n",
        "* `int`: número inteiro\n",
        "* `float`: número real (ponto flutuante)"
      ]
    },
    {
      "cell_type": "code",
      "metadata": {
        "id": "Y4e-eqqTnyV-",
        "outputId": "e1ec93bb-5d33-4372-9acd-4161d55f275d",
        "colab": {
          "base_uri": "https://localhost:8080/"
        }
      },
      "source": [
        "# isto é um comentário\n",
        "## este é outro comentário\n",
        "x = 10 # esse é um inteiro\n",
        "y = 8.9 # úm float (número real)\n",
        "\n",
        "print(type(x)) # o comando type mostra o TIPO da variável\n",
        "print(type(y))\n",
        "\n",
        "print(x) # mostra o valor da variável\n",
        "print(y)"
      ],
      "execution_count": 5,
      "outputs": [
        {
          "output_type": "stream",
          "text": [
            "<class 'int'>\n",
            "<class 'float'>\n",
            "10\n",
            "8.9\n"
          ],
          "name": "stdout"
        }
      ]
    },
    {
      "cell_type": "markdown",
      "metadata": {
        "id": "3e_IO6gXnyWA"
      },
      "source": [
        "### Variáveis de Texto (`string`)\n",
        "\n",
        "Qualquer texto é uma `string`"
      ]
    },
    {
      "cell_type": "code",
      "metadata": {
        "id": "Mi6Ni7ijnyWB",
        "outputId": "078c7c00-2104-446c-e352-56637b43575d",
        "colab": {
          "base_uri": "https://localhost:8080/"
        }
      },
      "source": [
        "universidade = 'UNINOVE'\n",
        "logo = 'uni9 é 10'\n",
        "professor = 'Edson Melo de Souza'\n",
        "\n",
        "print(type(logo))\n",
        "print('Número de caracteres do logo: ', len(logo)) # usando ,\n",
        "print('Bem-vindo à ' + universidade +\n",
        "      ', o seu professor é ' + professor) # usando +\n",
        "\n",
        "print(x, type(x))\n",
        "print(y, type(y))"
      ],
      "execution_count": 8,
      "outputs": [
        {
          "output_type": "stream",
          "text": [
            "<class 'str'>\n",
            "Número de caracteres do logo:  9\n",
            "Bem-vindo à UNINOVE, o seu professor é Edson Melo de Souza\n",
            "10 <class 'int'>\n",
            "8.9 <class 'float'>\n"
          ],
          "name": "stdout"
        }
      ]
    },
    {
      "cell_type": "markdown",
      "metadata": {
        "id": "2bc93FNInyWC"
      },
      "source": [
        "### Variáveis Lógicas (`bool`)\n",
        "\n",
        "* Verdadeiro = `True` = $1$\n",
        "* Falso = `False` = $0$"
      ]
    },
    {
      "cell_type": "code",
      "metadata": {
        "id": "enVDbtIhnyWC",
        "outputId": "d702876f-e9e9-4704-9e51-fae3ff062d9e"
      },
      "source": [
        "mortalidade = True\n",
        "\n",
        "print(mortalidade)\n",
        "print(type(mortalidade))"
      ],
      "execution_count": null,
      "outputs": [
        {
          "name": "stdout",
          "output_type": "stream",
          "text": [
            "True\n",
            "<class 'bool'>\n"
          ]
        }
      ]
    },
    {
      "cell_type": "markdown",
      "metadata": {
        "id": "TTpzspnNnyWD"
      },
      "source": [
        "## Leitura de Dados do Teclado\n",
        "\n",
        "A função utilizada para efetuar a leitura de dados a partir do teclado é a função `input()`."
      ]
    },
    {
      "cell_type": "code",
      "metadata": {
        "id": "2Vq09_y6nyWE",
        "outputId": "dd863f26-6839-4248-d10a-03c8735e06c1",
        "colab": {
          "base_uri": "https://localhost:8080/"
        }
      },
      "source": [
        "print(\"dados do aluno\")\n",
        "nome = input(\"informe seu nome: \")\n",
        "idade = input (\"informe sua idade: \")\n",
        "print(nome + \", você tem\", idade, \"anos!!\")"
      ],
      "execution_count": 11,
      "outputs": [
        {
          "output_type": "stream",
          "text": [
            "dados do aluno\n",
            "informe seu nome: Edson\n",
            "informe sua idade: 50\n",
            "Edson, você tem 50 anos!!\n"
          ],
          "name": "stdout"
        }
      ]
    },
    {
      "cell_type": "markdown",
      "metadata": {
        "id": "8s8uNxPgnyWE"
      },
      "source": [
        "## Operadores Aritméticos\n",
        "\n",
        "* Soma `x + y`\n",
        "* Subtração `x - y`\n",
        "* Multiplicação `x * y`\n",
        "* Divisão `x / y`\n",
        "* Divisão desconsiderando a parte fracionária `x // y`\n",
        "* Resto de uma divisão `x % y`\n",
        "* Absoluto `abs(x)`\n",
        "* Converter para Inteiro `int(x)`\n",
        "* Converter para Real `float(x)`\n",
        "* Potência `x ** y`"
      ]
    },
    {
      "cell_type": "code",
      "metadata": {
        "id": "WNFT7WdpnyWF",
        "outputId": "c2a5f8f8-4410-4712-c8c7-0cb436e90ead",
        "colab": {
          "base_uri": "https://localhost:8080/"
        }
      },
      "source": [
        "x = 10\n",
        "y = 3\n",
        "\n",
        "print('Soma: ', x + y)\n",
        "print('Subtração: ', x - y)\n",
        "print('Multiplicação: ', x * y)\n",
        "print('Divisão: ', x / y)\n",
        "print('Divisão desconsiderando a parte fracionária: ', x // y)\n",
        "print('Módulo - Resto de uma divisão: ', x % y)\n",
        "print('x elevado à y potência: ', x ** y)\n",
        "\n",
        "print(abs(2))\n",
        "print(abs(-2)) # abs é um número sem sinal (positivos)\n",
        "\n",
        "x1 = \"10\"\n",
        "y1 = \"20\"\n",
        "print(x1 + y1) # sem a conversão, são concatenados os valores\n",
        "print(int(x1) + int(y1))"
      ],
      "execution_count": 19,
      "outputs": [
        {
          "output_type": "stream",
          "text": [
            "Soma:  13\n",
            "Subtração:  7\n",
            "Multiplicação:  30\n",
            "Divisão:  3.3333333333333335\n",
            "Divisão desconsiderando a parte fracionária:  3\n",
            "Módulo - Resto de uma divisão:  1\n",
            "x elevado à y potência:  1000\n",
            "2\n",
            "2\n",
            "1020\n",
            "30\n"
          ],
          "name": "stdout"
        }
      ]
    },
    {
      "cell_type": "markdown",
      "metadata": {
        "id": "H6Vy6DtTnyWF"
      },
      "source": [
        "### Arredondamento, Piso e Teto"
      ]
    },
    {
      "cell_type": "code",
      "metadata": {
        "id": "sJs_D6uGnyWF",
        "outputId": "d7368fa8-eab1-4471-8faa-aaf632ef0fe5",
        "colab": {
          "base_uri": "https://localhost:8080/"
        }
      },
      "source": [
        "import math # lê-se \"méfi\" ou \"mefe\"\n",
        "#import math as m \n",
        "#from math import floor, ceil\n",
        "\n",
        "print('round: ', round(3.33)) # arredondamento\n",
        "print('floor: ', math.floor(3.53789)) # arredonda para baixo\n",
        "print('ceil: ', math.ceil(3.33)) # arredondamento para cima\n",
        "\n",
        "# O round() também pode ser utilizado para determinar o \n",
        "# números de casas depois da vírgula a serem apresentados\n",
        "print('round, casas: ', round(3.33156487, 3)) # 3 casas\n",
        "print('round, casas: ', round(3.33156487, 2)) # 2 casas"
      ],
      "execution_count": 22,
      "outputs": [
        {
          "output_type": "stream",
          "text": [
            "round:  3\n",
            "floor:  3\n",
            "ceil:  4\n",
            "round, casas:  3.332\n",
            "round, casas:  3.33\n"
          ],
          "name": "stdout"
        }
      ]
    },
    {
      "cell_type": "code",
      "metadata": {
        "id": "Q9c68LGS00kk",
        "outputId": "4d44ae5d-5c76-42fd-c3e3-0dd2a09da479",
        "colab": {
          "base_uri": "https://localhost:8080/"
        }
      },
      "source": [
        "# importa a biblioteca e dá um apelido para ela\n",
        "import math as m # \"as\" significa apelido ou alias\n",
        "print('ceil: ', m.ceil(3.33))"
      ],
      "execution_count": 23,
      "outputs": [
        {
          "output_type": "stream",
          "text": [
            "ceil:  4\n"
          ],
          "name": "stdout"
        }
      ]
    },
    {
      "cell_type": "code",
      "metadata": {
        "id": "7fTddPwX1VDY",
        "outputId": "c5db8752-c7b7-4ce1-816d-209987c53eab",
        "colab": {
          "base_uri": "https://localhost:8080/"
        }
      },
      "source": [
        "# importa apenas o recurso desejado\n",
        "from math import ceil\n",
        "print('ceil: ', ceil(3.33))"
      ],
      "execution_count": 24,
      "outputs": [
        {
          "output_type": "stream",
          "text": [
            "ceil:  4\n"
          ],
          "name": "stdout"
        }
      ]
    },
    {
      "cell_type": "markdown",
      "metadata": {
        "id": "hxv_yZOMnyWG"
      },
      "source": [
        "## Operadores Relacionais\n",
        "\n",
        "Uma condição é o estabelecimento de uma relação lógica entre dois elementos. Para definir uma relação lógica é necessário usar operadores relacionais. Uma relação lógica (comparação) retorna somente os valores verdadeiro ou falso."
      ]
    },
    {
      "cell_type": "markdown",
      "metadata": {
        "id": "mRGyn3gFnyWG"
      },
      "source": [
        "* Igual a: `x == y`\n",
        "* Maior que: `x > y`\n",
        "* Menor que: `x < y`\n",
        "* Maior ou igual a: `x >= y`\n",
        "* Menor ou igual a: `x <= y`\n",
        "* Diferente de: `x != y`"
      ]
    },
    {
      "cell_type": "code",
      "metadata": {
        "id": "ePO0Vj1znyWG",
        "outputId": "7bd1a28c-735d-45f1-f426-d89e9f547b8b",
        "colab": {
          "base_uri": "https://localhost:8080/"
        }
      },
      "source": [
        "x = 3\n",
        "y = 4\n",
        "\n",
        "\n",
        "print('Igual a: ', x == y)\n",
        "print('Maior que: ', x > y)\n",
        "print('Menor que: ', x < y)\n",
        "print('Maior ou igual a: ', x >= y)\n",
        "print('Menor ou igual a: ', x <= y)\n",
        "print('Diferente de: ', x != y)"
      ],
      "execution_count": 25,
      "outputs": [
        {
          "output_type": "stream",
          "text": [
            "Igual a:  False\n",
            "Maior que:  False\n",
            "Menor que:  True\n",
            "Maior ou igual a:  False\n",
            "Menor ou igual a:  True\n",
            "Diferente de:  True\n"
          ],
          "name": "stdout"
        }
      ]
    },
    {
      "cell_type": "markdown",
      "metadata": {
        "id": "g6EcXwLInyWH"
      },
      "source": [
        "## Operadores Lógicos\n",
        "São utilizados para uma mesma tomada de decisão que necessite de mais de uma condição. Também são conhecidos como operadores booleanos. Operadores lógicos retornam somente os valores verdadeiro ou falso.\n",
        "\n",
        "| Operador Lógico | Função    | Prioridade |\n",
        "|-----------------|-----------|---------------------|\n",
        "| `NOT`           | Negação   | 1                   |\n",
        "| `AND`           | Conjunção | 2                   |\n",
        "| `OR`            | Disjunção | 3                   |"
      ]
    },
    {
      "cell_type": "code",
      "metadata": {
        "id": "0r6A9iflnyWI",
        "outputId": "50d7168d-5a73-40dd-cdca-ce383303ac21",
        "colab": {
          "base_uri": "https://localhost:8080/"
        }
      },
      "source": [
        "x = 1\n",
        "y = 3\n",
        "z = 5\n",
        "w = 2\n",
        "\n",
        "print(z > w and w > y)  # False\n",
        "print(z > w or w > y)   # True\n",
        "print(not y + w == z)   # False\n",
        "print(not 3 + 2 == 5)   # False\n",
        "\n",
        "print(not 10 == 10)\n",
        "\n",
        "X = 10\n",
        "Y = 12\n",
        "Z = 9"
      ],
      "execution_count": 26,
      "outputs": [
        {
          "output_type": "stream",
          "text": [
            "False\n",
            "True\n",
            "False\n",
            "False\n",
            "sim\n"
          ],
          "name": "stdout"
        }
      ]
    },
    {
      "cell_type": "code",
      "metadata": {
        "id": "QA0ESo2_6zrx",
        "outputId": "7beb3b09-ed0b-45f3-d56e-d337afba8d9a",
        "colab": {
          "base_uri": "https://localhost:8080/"
        }
      },
      "source": [
        "# Estrutura de decisão IF\n",
        "\n",
        "# exemplo em java, php e C/C++\n",
        "# if (teste lógico){\n",
        "#    TODO\n",
        "#}\n",
        "\n",
        "# No Python é mais \"chique\"\n",
        "# Um bloco de códsigo é feito através da identação\n",
        "\n",
        "if not 10 > 2:\n",
        "    print('É verdade')\n",
        "else:\n",
        "    print('É nada')\n",
        "    if 15 != 16:\n",
        "        print('15 é diferente de 16')\n",
        "\n",
        "print('Print após mostrar o resultado do IF')\n",
        "\n",
        "# Operador ternário\n",
        "#r = <expressao> if <condicao> else <expressao>\n",
        "\n",
        "x = 10\n",
        "\n",
        "print(\"par\" if x % 2 == 0 else \"ímpar\")"
      ],
      "execution_count": 31,
      "outputs": [
        {
          "output_type": "stream",
          "text": [
            "É nada\n",
            "15 é diferente de 16\n",
            "Print após mostrar o resultado do IF\n",
            "par\n"
          ],
          "name": "stdout"
        }
      ]
    },
    {
      "cell_type": "code",
      "metadata": {
        "id": "aBJO1JVc9Vx3",
        "outputId": "b3cf444c-daea-4fe1-f0e3-88af52ae3909",
        "colab": {
          "base_uri": "https://localhost:8080/"
        }
      },
      "source": [
        "# Saída exclusiva\n",
        "x = 1\n",
        "y = 2\n",
        "\n",
        "x+y, x-y, x, y"
      ],
      "execution_count": 38,
      "outputs": [
        {
          "output_type": "execute_result",
          "data": {
            "text/plain": [
              "(3, -1, 1, 2)"
            ]
          },
          "metadata": {},
          "execution_count": 38
        }
      ]
    },
    {
      "cell_type": "markdown",
      "metadata": {
        "id": "U_D6wKCxnyWI"
      },
      "source": [
        "## Exercícios de fixação"
      ]
    },
    {
      "cell_type": "code",
      "metadata": {
        "id": "KPQ_ACPGnyWI",
        "outputId": "c0529352-15f7-4b0d-fbb4-40d1b0c7751b",
        "colab": {
          "base_uri": "https://localhost:8080/"
        }
      },
      "source": [
        "# Faça a leitura pelo teclado de três variáveis (a, b e c)\n",
        "# e mostre o resultado para: a + b - c + (a * c) / a ** 2\n",
        "\n",
        "a = int(input(\"Digite a: \"))\n",
        "b = int(input(\"Digite b: \"))\n",
        "c = int(input(\"Digite c: \"))\n",
        "\n",
        "print(a + b - c + (a * c) / a ** 2)"
      ],
      "execution_count": 42,
      "outputs": [
        {
          "output_type": "stream",
          "text": [
            "Digite a: 1\n",
            "Digite b: 2\n",
            "Digite c: 3\n",
            "3.0\n"
          ],
          "name": "stdout"
        }
      ]
    },
    {
      "cell_type": "code",
      "metadata": {
        "id": "f9aEbSJYDRur",
        "outputId": "0c8d2d38-c745-4eb4-9a96-39a3114b51f9",
        "colab": {
          "base_uri": "https://localhost:8080/"
        }
      },
      "source": [
        "# Segunda forma\n",
        "a = input(\"Digite a: \")\n",
        "b = input(\"Digite b: \")\n",
        "c = input(\"Digite c: \")\n",
        "\n",
        "a = int(a)\n",
        "b = int(b)\n",
        "c = int(c)\n",
        "\n",
        "print(a + b - c + (a * c) / a ** 2)"
      ],
      "execution_count": 43,
      "outputs": [
        {
          "output_type": "stream",
          "text": [
            "Digite a: 1\n",
            "Digite b: 2\n",
            "Digite c: 3\n",
            "3.0\n"
          ],
          "name": "stdout"
        }
      ]
    },
    {
      "cell_type": "code",
      "metadata": {
        "id": "XPkkCLuVnyWI",
        "outputId": "fdfdd50f-5bd4-4f58-ccaf-0e9288fba239",
        "colab": {
          "base_uri": "https://localhost:8080/"
        }
      },
      "source": [
        "# Calcular a área de um cubo\n",
        "lado = input(\"Digite o lado da face do cubo: \")\n",
        "Af = int(lado) ** 2 # calculamos uma face\n",
        "area_total = 6 * Af # calculamos a area total\n",
        "print(area_total)"
      ],
      "execution_count": 44,
      "outputs": [
        {
          "output_type": "stream",
          "text": [
            "Digite o lado da face do cubo: 5\n",
            "150\n"
          ],
          "name": "stdout"
        }
      ]
    },
    {
      "cell_type": "code",
      "metadata": {
        "id": "jNZMhh12nyWI",
        "outputId": "7f33a8e1-1c60-4e42-8123-1fc25bc8ef54",
        "colab": {
          "base_uri": "https://localhost:8080/"
        }
      },
      "source": [
        "# Mostre os resultados das operações com as casas decimais determinadas:\n",
        "print( round( (78 / 35), 3) )  # três (2.229)\n",
        "#print(-5 / 9)               # cinco (-0.55556)\n",
        "print(round( (int(\"122\") / float(\"49.2\")), 2))  # duas (2.48)\n",
        "#print(\"2.334\" * \"2.5678\")   # três (5.993)"
      ],
      "execution_count": 49,
      "outputs": [
        {
          "output_type": "stream",
          "text": [
            "2.229\n",
            "2.48\n"
          ],
          "name": "stdout"
        }
      ]
    },
    {
      "cell_type": "code",
      "metadata": {
        "id": "gbSEn4EgEjZK"
      },
      "source": [
        ""
      ],
      "execution_count": null,
      "outputs": []
    }
  ]
}