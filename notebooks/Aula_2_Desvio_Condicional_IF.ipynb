{
  "nbformat": 4,
  "nbformat_minor": 0,
  "metadata": {
    "celltoolbar": "Slideshow",
    "kernelspec": {
      "display_name": "Python [conda env:ciencia-de-dados]",
      "language": "python",
      "name": "conda-env-ciencia-de-dados-py"
    },
    "language_info": {
      "codemirror_mode": {
        "name": "ipython",
        "version": 3
      },
      "file_extension": ".py",
      "mimetype": "text/x-python",
      "name": "python",
      "nbconvert_exporter": "python",
      "pygments_lexer": "ipython3",
      "version": "3.7.10"
    },
    "rise": {
      "autolaunch": true,
      "enable_chalkboard": true,
      "progress": true,
      "scroll": true,
      "slideNumber": true
    },
    "colab": {
      "name": "Aula_2_Desvio_Condicional_IF.ipynb",
      "provenance": []
    }
  },
  "cells": [
    {
      "cell_type": "markdown",
      "metadata": {
        "id": "ViIZSkimu67q"
      },
      "source": [
        "[![Binder](https://mybinder.org/badge_logo.svg)](https://mybinder.org/v2/gh/storopoli/ciencia-de-dados/master?filepath=notebooks%2FAula_2_Desvio_Condicional_IF.ipynb)\n",
        "<br>\n",
        "[![Open In Colab](https://colab.research.google.com/assets/colab-badge.svg)](https://colab.research.google.com/github/storopoli/ciencia-de-dados/blob/master/notebooks/Aula_2_Desvio_Condicional_IF.ipynb)"
      ]
    },
    {
      "cell_type": "markdown",
      "metadata": {
        "id": "o6UHLUyju67v"
      },
      "source": [
        "# Desvio Condicional (`IF`)\n",
        "\n",
        "**Objetivos**: Apresentar desvio condicional em Python (`IF`)"
      ]
    },
    {
      "cell_type": "markdown",
      "metadata": {
        "id": "zSxhZ6w6u67w"
      },
      "source": [
        "Os desvios condicionais, também chamados de estruturas de seleção ou decisão, são\n",
        "utilizados quando existe a necessidade de verificar condições para a realização de uma\n",
        "instrução ou de uma sequência de instruções. Os testes de seleção também podem ser\n",
        "utilizados para verificar opções de escolha."
      ]
    },
    {
      "cell_type": "markdown",
      "metadata": {
        "id": "uSyrsSwsu67x"
      },
      "source": [
        "## Desvio Condicional Simples\n",
        "\n",
        "Esse tipo de desvio é representado por uma instrução que avalia uma expressão lógica, resultando um valor que pode ser verdadeiro ou falso. Ele deve ser utilizado caso seja necessário executar instruções somente se uma condição for verdadeira.\n",
        "\n",
        "**Cuidado com indentação (*identation*)**\n",
        "\n",
        "```python\n",
        "if (condição):\n",
        "    instruções condição verdadeira\n",
        "instruções independentemente da condição ser verdadeira ou não\n",
        "```"
      ]
    },
    {
      "cell_type": "code",
      "metadata": {
        "id": "lkIXBrWiu670",
        "outputId": "892922f4-b53d-4702-a80e-fe91aae87f01",
        "colab": {
          "base_uri": "https://localhost:8080/"
        }
      },
      "source": [
        "a = 5\n",
        "b = 5\n",
        "c = 1\n",
        "\n",
        "if (a == b):\n",
        "    print('a é igual a b')\n",
        "    c +=2\n",
        "print('Valor de c: ', c)"
      ],
      "execution_count": 1,
      "outputs": [
        {
          "output_type": "stream",
          "text": [
            "a é igual a b\n",
            "Valor de c:  3\n"
          ],
          "name": "stdout"
        }
      ]
    },
    {
      "cell_type": "code",
      "metadata": {
        "id": "2J6Ibaouu676",
        "outputId": "18fc43c9-6119-46cb-bfdc-913c98f6ed6d"
      },
      "source": [
        "a = 5\n",
        "b = 5\n",
        "c = 0\n",
        "if (a != b):\n",
        "    print('a é diferente de b')\n",
        "    c +=2\n",
        "print('Valor de c: ', c)"
      ],
      "execution_count": null,
      "outputs": [
        {
          "name": "stdout",
          "output_type": "stream",
          "text": [
            "Valor de c:  0\n"
          ]
        }
      ]
    },
    {
      "cell_type": "code",
      "metadata": {
        "id": "25oJ1RzDu678",
        "outputId": "d96a0946-bf5e-4788-cbee-95ad621be2f3"
      },
      "source": [
        "a = 5\n",
        "b = 5\n",
        "c = 0\n",
        "\n",
        "if (a == b):\n",
        "    print('a é igual a b')\n",
        "    if (c + 5 == a):\n",
        "        print('c mais cinco é igual a a')\n",
        "        c += 2\n",
        "    c +=2\n",
        "print('Valor de c: ', c)"
      ],
      "execution_count": null,
      "outputs": [
        {
          "name": "stdout",
          "output_type": "stream",
          "text": [
            "a é igual a b\n",
            "c mais cinco é igual a a\n",
            "Valor de c:  4\n"
          ]
        }
      ]
    },
    {
      "cell_type": "code",
      "metadata": {
        "id": "VYIaKiiIu679",
        "outputId": "650b289f-bd81-4d07-b5b6-960b3ee283b0"
      },
      "source": [
        "a = 5\n",
        "b = 5\n",
        "c = 0\n",
        "\n",
        "if (a == b):\n",
        "    print('a é igual a b')\n",
        "    if (c + 6 == a):\n",
        "        print('c mais seis é igual a a')\n",
        "        c += 2\n",
        "    c +=2\n",
        "print('Valor de c: ', c)"
      ],
      "execution_count": null,
      "outputs": [
        {
          "name": "stdout",
          "output_type": "stream",
          "text": [
            "a é igual a b\n",
            "Valor de c:  2\n"
          ]
        }
      ]
    },
    {
      "cell_type": "markdown",
      "metadata": {
        "id": "D2GPQw_ju67-"
      },
      "source": [
        "## Desvio Condicional Composto\n",
        "O desvio condicional composto prevê uma condição com 2 conjuntos de instruções para serem realizados de acordo com a avaliação da resposta: um bloco de instruções para resposta verdadeiro e um bloco de instruções para resposta falso.\n",
        "\n",
        "```python\n",
        "if (condição):\n",
        "    instruções condição verdadeira\n",
        "else:\n",
        "    instrução condição falsa\n",
        "instruções independentemente da condição ser verdadeira ou não\n",
        "```"
      ]
    },
    {
      "cell_type": "code",
      "metadata": {
        "id": "4ClOZM73u68A",
        "outputId": "d31823b0-ac97-48c5-ecbc-898c1b7a57ff"
      },
      "source": [
        "a = 5\n",
        "b = 5\n",
        "c = 0\n",
        "\n",
        "if (a == b):\n",
        "    print('a é igual a b')\n",
        "    if (c + 5 == a):\n",
        "        print('c mais cinco é igual a a')\n",
        "        c += 2\n",
        "else:\n",
        "    c +=3\n",
        "print('Valor de c: ', c)"
      ],
      "execution_count": null,
      "outputs": [
        {
          "name": "stdout",
          "output_type": "stream",
          "text": [
            "a é igual a b\n",
            "c mais cinco é igual a a\n",
            "Valor de c:  2\n"
          ]
        }
      ]
    },
    {
      "cell_type": "code",
      "metadata": {
        "id": "6ib4Q1gsu68D",
        "outputId": "8fa34f46-fd9c-4e63-e8ec-fd96919c5ff1"
      },
      "source": [
        "a = 5\n",
        "b = 5\n",
        "c = 0\n",
        "\n",
        "if (a != b):\n",
        "    print('a é diferente de b')\n",
        "    if (c + 6 == a):\n",
        "        print('c mais seis é igual a a')\n",
        "        c += 2\n",
        "else:\n",
        "    c +=3\n",
        "print('Valor de c: ', c)"
      ],
      "execution_count": null,
      "outputs": [
        {
          "name": "stdout",
          "output_type": "stream",
          "text": [
            "Valor de c:  3\n"
          ]
        }
      ]
    },
    {
      "cell_type": "markdown",
      "metadata": {
        "id": "p_1mOp8qu68G"
      },
      "source": [
        "## Desvio Condicional Encadeado\n",
        "Um desvio condicional encadeado é uma sequência de testes de seleção, os quais serão executados ou não de acordo com o resultado das condições e de acordo com o encadeamento dos testes.\n",
        "\n",
        "Existem casos em que é necessário estabelecer algumas verificações lógicas de condições definidas sucessivamente. A ideia aqui apresentada sugere a possibilidade de usar uma condição dentro de outra condição, o que leva a uma estrutura de decisão encadeada ou aninhada."
      ]
    },
    {
      "cell_type": "markdown",
      "metadata": {
        "id": "i6bZS5AXu68G"
      },
      "source": [
        "```python\n",
        "if (condição_1):\n",
        "    instruções condição_1 verdadeira\n",
        "elif (condição_2):\n",
        "    instruções condição_2 verdadeira\n",
        "elif (condição_3):\n",
        "    instruções condição_3 verdadeira\n",
        "else:\n",
        "    instrução condições falsas\n",
        "instruções independentemente das condições serem verdadeiras ou não\n",
        "```"
      ]
    },
    {
      "cell_type": "code",
      "metadata": {
        "id": "J8t_8c3Ku68I",
        "outputId": "9e0f9002-1787-476d-9c70-c1cad788898b"
      },
      "source": [
        "c = 0\n",
        "a = int(input(\"informe valor de a: \\n\"))\n",
        "\n",
        "if (a==1):\n",
        "    c = 10\n",
        "elif (a==2):\n",
        "    c = 11\n",
        "elif (a==3):\n",
        "    c = 12\n",
        "elif (a==4):\n",
        "    c = 13\n",
        "elif (a==5):\n",
        "    c = 14\n",
        "else:\n",
        "    c = 20\n",
        "print(c)"
      ],
      "execution_count": null,
      "outputs": [
        {
          "name": "stdout",
          "output_type": "stream",
          "text": [
            "informe valor de a: \n",
            "2\n",
            "11\n"
          ]
        }
      ]
    },
    {
      "cell_type": "markdown",
      "metadata": {
        "id": "c7kJs5mRu68J"
      },
      "source": [
        "## Atividade\n",
        "\n",
        "1. Designe uma variável `x` com o valor $8$\n",
        "2. Designe uma variável `y` com o valor $15$\n",
        "3. Crie 2 desvios condicionais:\n",
        "    * O primeiro deve imprimir \"Ao menos uma das condições foi satisfeita\" se `x` maior que $3$ **ou** `y` é número par\n",
        "    * O segundo deve imprimir \"Nenhuma condição foi satisfeita\" se `x` menor ou igual a $3$ **e** `y` é número ímpar\n",
        "\n",
        "\n",
        "Observação: use o módulo `%` para identificar número *ímpar* e *par*"
      ]
    },
    {
      "cell_type": "code",
      "metadata": {
        "id": "YFSs8E-9u68J"
      },
      "source": [
        "###"
      ],
      "execution_count": null,
      "outputs": []
    },
    {
      "cell_type": "markdown",
      "metadata": {
        "id": "u6iVk09Ku68J"
      },
      "source": [
        "Resolva a equação do 2° Grau a seguir, realizando a entrada dos valores de (a, b e c) pelo teclado.\n",
        "\n",
        "A solução real da equação é dada por $ax^2 + bx + c = 0$, fórmula de Baskara.\n",
        "\n",
        "Exemplo:\n",
        "\n",
        "$a=1$, $b=3$ e $c=2$\n",
        "\n",
        "$ \\Delta = b^2 - 4ac $, com $a \\neq 0$\n",
        "\n",
        "Se $ \\Delta < 0$ então mostrar \"não há solução real\"\n",
        "\n",
        "Senão, calcular e apresentar os resultados.\n",
        "\n",
        "$ x_{1}=\\frac{-b-\\sqrt{\\Delta}}{2a} $\n",
        "<br><br>\n",
        " $ x_{2} = \\frac{-b +\\sqrt{\\Delta}}{2a} $"
      ]
    },
    {
      "cell_type": "code",
      "metadata": {
        "id": "GUmGZ5cBu68K"
      },
      "source": [
        "###"
      ],
      "execution_count": null,
      "outputs": []
    },
    {
      "cell_type": "code",
      "metadata": {
        "id": "vq5vQ9Nx1-6M",
        "outputId": "b5192b77-9d48-4bdc-bacc-4002399cb197",
        "colab": {
          "base_uri": "https://localhost:8080/"
        }
      },
      "source": [
        "#Exercício 1 da aula\n",
        "a = int(input('Digite um número: '))\n",
        "b = int(input('Digite outro número: '))\n",
        "op = input('Operação (soma, mult ou div: ')\n",
        "\n",
        "if op == 'soma':\n",
        "  print(a+b)\n",
        "if op == 'mult':\n",
        "  print(a*b)\n",
        "if op == 'div':\n",
        "  print(a/b)\n",
        "\n",
        "\n",
        "\n",
        "\n"
      ],
      "execution_count": 8,
      "outputs": [
        {
          "output_type": "stream",
          "text": [
            "Digite um número: 5\n",
            "Digite outro número: 5\n",
            "Operação (soma, mult ou div: soma\n",
            "10\n"
          ],
          "name": "stdout"
        }
      ]
    }
  ]
}